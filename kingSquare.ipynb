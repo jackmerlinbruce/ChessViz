{
 "cells": [
  {
   "cell_type": "code",
   "execution_count": 1,
   "metadata": {},
   "outputs": [],
   "source": [
    "import os\n",
    "import sys\n",
    "import chess.pgn as pychess\n",
    "from chess.pgn import read_game\n",
    "from chess import square_name\n",
    "from chess import SQUARE_NAMES, BB_SQUARES\n",
    "import ChessFuncs\n",
    "from ChessFuncs import end_board\n",
    "import bz2\n",
    "import time\n",
    "from io import StringIO\n",
    "from multiprocessing import Process\n",
    "import time\n",
    "from time import sleep\n",
    "import time\n",
    "import glob"
   ]
  },
  {
   "cell_type": "code",
   "execution_count": 2,
   "metadata": {},
   "outputs": [],
   "source": [
    "path = glob.glob('*lichess*')[0]\n",
    "parsedpath = glob.glob('*lichess*')[5]"
   ]
  },
  {
   "cell_type": "code",
   "execution_count": 3,
   "metadata": {},
   "outputs": [],
   "source": [
    "def end_board(parsed_pgn_file):\n",
    "    '''Moves the py-chess board obj to the final move.'''\n",
    "    current_board = parsed_pgn_file.board()\n",
    "    for move in parsed_pgn_file.main_line():\n",
    "        current_board.push(move)    \n",
    "    return current_board\n",
    "\n",
    "def does_q_checkmate_k(board, winner, loser):\n",
    "    #obv, only accounts for when a queen is DIRECTLY attacking a checkmated king,\n",
    "    #not accounting for the lines of attack which PREVENT the king from moving\n",
    "    try:\n",
    "        #uses .attackers() to find which squares are attacking out checkmated king?\n",
    "        board_string = str(board.attackers(winner, board.king(loser))).replace(\" \",\"\")[::-1] #removes whitespace and reverses str\n",
    "        board_string = board_string.split(\"\\n\") #split in ranks (horizontally)\n",
    "        board_string = [b[::-1] for b in board_string] #reverse each rank because h8 is the final sq\n",
    "        board_string = \"\".join(board_string) #rejoin list\n",
    "        board_string = list(enumerate(board_string)) #enumerate list as this is the way squares are counted (but in reverse)\n",
    "\n",
    "        #is a queen on one of those squares?\n",
    "        queen_num = board.queen(winner)\n",
    "        does_q_checkmate_k = board_string[queen_num][1] is not '.' #is there a piece at the index which the queen is in\n",
    "        return does_q_checkmate_k\n",
    "    except:\n",
    "        return False"
   ]
  },
  {
   "cell_type": "code",
   "execution_count": 25,
   "metadata": {},
   "outputs": [
    {
     "name": "stdout",
     "output_type": "stream",
     "text": [
      "Parsed 132.6 hundred games\n",
      "CPU times: user 44 s, sys: 176 ms, total: 44.2 s\n",
      "Wall time: 44.5 s\n"
     ]
    }
   ],
   "source": [
    "%%time\n",
    "[a,b,c,d,e,f,g,h] = [0]*8\n",
    "[r1,r2,r3,r4,r5,r6,r7,r8] = [0]*8\n",
    "\n",
    "with open(path,'r') as pgns:\n",
    "    count = 0\n",
    "    for line in pgns:\n",
    "\n",
    "        if line[:7] == '[Result':\n",
    "            result = line.split('\"')[1]\n",
    "        if line.startswith(\"1. \"):\n",
    "            count += 1\n",
    "            pgn = StringIO(line)\n",
    "            pgn = read_game(pgn)\n",
    "            board = end_board(pgn)\n",
    "\n",
    "            if result in [\"1-0\",\"0-1\"] and board.is_checkmate():\n",
    "                \n",
    "                winner,loser = result.split('-')\n",
    "                king_num = board.king(int(loser))\n",
    "                king_sq = square_name(king_num)\n",
    "                    \n",
    "                if king_sq[0] == 'a':\n",
    "                    a += 1\n",
    "                if king_sq[0] == 'b':\n",
    "                    b += 1\n",
    "                if king_sq[0] == 'c':\n",
    "                    c += 1\n",
    "                if king_sq[0] == 'd':\n",
    "                    d += 1\n",
    "                if king_sq[0] == 'e':\n",
    "                    e += 1\n",
    "                if king_sq[0] == 'f':\n",
    "                    f += 1\n",
    "                if king_sq[0] == 'g':\n",
    "                    g += 1\n",
    "                if king_sq[0] == 'h':\n",
    "                    h += 1\n",
    "\n",
    "                if king_sq[1] == '1':\n",
    "                    r1 += 1\n",
    "                if king_sq[1] == '2':\n",
    "                    r2 += 1\n",
    "                if king_sq[1] == '3':\n",
    "                    r3 += 1\n",
    "                if king_sq[1] == '4':\n",
    "                    r4 += 1\n",
    "                if king_sq[1] == '5':\n",
    "                    r5 += 1\n",
    "                if king_sq[1] == '6':\n",
    "                    r6 += 1\n",
    "                if king_sq[1] == '7':\n",
    "                    r7 += 1\n",
    "                if king_sq[1] == '8':\n",
    "                    r8 += 1\n",
    "                    \n",
    "    print(f\"Parsed {round(count/100,1) } hundred games\")\n"
   ]
  },
  {
   "cell_type": "code",
   "execution_count": 23,
   "metadata": {},
   "outputs": [
    {
     "name": "stdout",
     "output_type": "stream",
     "text": [
      "Parsed 12.4 million games\n",
      "CPU times: user 15.6 s, sys: 103 ms, total: 15.7 s\n",
      "Wall time: 15.8 s\n"
     ]
    }
   ],
   "source": [
    "%%time\n",
    "[a,b,c,d,e,f,g,h] = [0]*8\n",
    "[r1,r2,r3,r4,r5,r6,r7,r8] = [0]*8\n",
    "\n",
    "with open(parsedpath,'r') as pgn:\n",
    "    count = 0\n",
    "    for line in pgn:\n",
    "        result, king, queen = line.split(',')\n",
    "        if int(result) == 0 or int(result) == 1:\n",
    "            king_sq = square_name(int(king))\n",
    "            \n",
    "            if king_sq[0] == 'a':\n",
    "                a += 1\n",
    "            if king_sq[0] == 'b':\n",
    "                b += 1\n",
    "            if king_sq[0] == 'c':\n",
    "                c += 1\n",
    "            if king_sq[0] == 'd':\n",
    "                d += 1\n",
    "            if king_sq[0] == 'e':\n",
    "                e += 1\n",
    "            if king_sq[0] == 'f':\n",
    "                f += 1\n",
    "            if king_sq[0] == 'g':\n",
    "                g += 1\n",
    "            if king_sq[0] == 'h':\n",
    "                h += 1\n",
    "                \n",
    "            if king_sq[1] == '1':\n",
    "                r1 += 1\n",
    "            if king_sq[1] == '2':\n",
    "                r2 += 1\n",
    "            if king_sq[1] == '3':\n",
    "                r3 += 1\n",
    "            if king_sq[1] == '4':\n",
    "                r4 += 1\n",
    "            if king_sq[1] == '5':\n",
    "                r5 += 1\n",
    "            if king_sq[1] == '6':\n",
    "                r6 += 1\n",
    "            if king_sq[1] == '7':\n",
    "                r7 += 1\n",
    "            if king_sq[1] == '8':\n",
    "                r8 += 1\n",
    "                \n",
    "        count += 1\n",
    "    print(f\"Parsed {round(count/1000000,1) } million games\")\n"
   ]
  },
  {
   "cell_type": "code",
   "execution_count": 83,
   "metadata": {},
   "outputs": [
    {
     "name": "stdout",
     "output_type": "stream",
     "text": [
      "Took 0.14 seconds\n",
      "Parsed 13232 games\n",
      "Will take 0.05 days to parse all\n"
     ]
    }
   ],
   "source": [
    "count = 0\n",
    "then = time.time()\n",
    "\n",
    "with open(path,'r') as pgn:\n",
    "    lines = pgn.readlines(10000000)\n",
    "    for line in lines:\n",
    "        if line[:7] == '[Result':\n",
    "            result = line.split('\"')[1]\n",
    "        if line[:2] == '1.':\n",
    "            count += 1\n",
    "            if result == '1-0' or result == '0-1':\n",
    "                pgn = StringIO(line)                \n",
    "#                 pgn = read_game(pgn) # slow function\n",
    "#                 board = end_board(pgn) # slow function\n",
    "    \n",
    "    elapsed = time.time() - then\n",
    "    print(f\"Took {round(elapsed,2)} seconds\")\n",
    "    print(f\"Parsed {round(count,1) } games\")\n",
    "    print(f\"Will take {round(((elapsed * (400000000/count))/60/60/24),2)} days to parse all\")"
   ]
  },
  {
   "cell_type": "code",
   "execution_count": 65,
   "metadata": {},
   "outputs": [
    {
     "data": {
      "text/plain": [
       "13.6"
      ]
     },
     "execution_count": 65,
     "metadata": {},
     "output_type": "execute_result"
    }
   ],
   "source": []
  },
  {
   "cell_type": "code",
   "execution_count": null,
   "metadata": {},
   "outputs": [],
   "source": [
    "/60/60/24"
   ]
  }
 ],
 "metadata": {
  "kernelspec": {
   "display_name": "Python 3",
   "language": "python",
   "name": "python3"
  },
  "language_info": {
   "codemirror_mode": {
    "name": "ipython",
    "version": 3
   },
   "file_extension": ".py",
   "mimetype": "text/x-python",
   "name": "python",
   "nbconvert_exporter": "python",
   "pygments_lexer": "ipython3",
   "version": "3.6.4"
  }
 },
 "nbformat": 4,
 "nbformat_minor": 2
}
