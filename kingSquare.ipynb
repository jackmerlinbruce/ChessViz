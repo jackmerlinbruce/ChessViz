{
 "cells": [
  {
   "cell_type": "code",
   "execution_count": 1,
   "metadata": {},
   "outputs": [],
   "source": [
    "import os\n",
    "import sys\n",
    "import chess.pgn as pychess\n",
    "from chess.pgn import read_game\n",
    "from chess import square_name\n",
    "from chess import SQUARE_NAMES, BB_SQUARES\n",
    "import ChessFuncs\n",
    "from ChessFuncs import end_board\n",
    "import bz2\n",
    "import time\n",
    "from io import StringIO\n",
    "from multiprocessing import Process\n",
    "import time\n",
    "from time import sleep\n",
    "import time\n",
    "import glob"
   ]
  },
  {
   "cell_type": "code",
   "execution_count": 65,
   "metadata": {},
   "outputs": [],
   "source": [
    "paths = [glob.glob('*lichess*')[1]]"
   ]
  },
  {
   "cell_type": "code",
   "execution_count": 3,
   "metadata": {},
   "outputs": [],
   "source": [
    "def end_board(parsed_pgn_file):\n",
    "    '''Moves the py-chess board obj to the final move.'''\n",
    "    current_board = parsed_pgn_file.board()\n",
    "    for move in parsed_pgn_file.main_line():\n",
    "        current_board.push(move)    \n",
    "    return current_board"
   ]
  },
  {
   "cell_type": "code",
   "execution_count": null,
   "metadata": {},
   "outputs": [],
   "source": [
    "%%time\n",
    "[a,b,c,d,e,f,g,h] = [0]*8\n",
    "[r1,r2,r3,r4,r5,r6,r7,r8] = [0]*8\n",
    "\n",
    "with open(path,'r') as pgns:\n",
    "    count = 0\n",
    "    for line in pgns:\n",
    "\n",
    "        if line[:7] == '[Result':\n",
    "            result = line.split('\"')[1]\n",
    "        if line.startswith(\"1. \"):\n",
    "            count += 1\n",
    "            pgn = StringIO(line)\n",
    "            pgn = read_game(pgn)\n",
    "            board = end_board(pgn)\n",
    "\n",
    "            if result in [\"1-0\",\"0-1\"] and board.is_checkmate():\n",
    "                \n",
    "                winner,loser = result.split('-')\n",
    "                king_num = board.king(int(loser))\n",
    "                king_sq = square_name(king_num)\n",
    "                    \n",
    "                if king_sq[0] == 'a':\n",
    "                    a += 1\n",
    "                if king_sq[0] == 'b':\n",
    "                    b += 1\n",
    "                if king_sq[0] == 'c':\n",
    "                    c += 1\n",
    "                if king_sq[0] == 'd':\n",
    "                    d += 1\n",
    "                if king_sq[0] == 'e':\n",
    "                    e += 1\n",
    "                if king_sq[0] == 'f':\n",
    "                    f += 1\n",
    "                if king_sq[0] == 'g':\n",
    "                    g += 1\n",
    "                if king_sq[0] == 'h':\n",
    "                    h += 1\n",
    "\n",
    "                if king_sq[1] == '1':\n",
    "                    r1 += 1\n",
    "                if king_sq[1] == '2':\n",
    "                    r2 += 1\n",
    "                if king_sq[1] == '3':\n",
    "                    r3 += 1\n",
    "                if king_sq[1] == '4':\n",
    "                    r4 += 1\n",
    "                if king_sq[1] == '5':\n",
    "                    r5 += 1\n",
    "                if king_sq[1] == '6':\n",
    "                    r6 += 1\n",
    "                if king_sq[1] == '7':\n",
    "                    r7 += 1\n",
    "                if king_sq[1] == '8':\n",
    "                    r8 += 1\n",
    "                    \n",
    "    print(f\"Parsed {round(count/100,1) } hundred games\")\n"
   ]
  },
  {
   "cell_type": "code",
   "execution_count": null,
   "metadata": {},
   "outputs": [],
   "source": [
    "%%time\n",
    "[a,b,c,d,e,f,g,h] = [0]*8\n",
    "[r1,r2,r3,r4,r5,r6,r7,r8] = [0]*8\n",
    "\n",
    "with open(parsedpath,'r') as pgn:\n",
    "    count = 0\n",
    "    for line in pgn:\n",
    "        result, king, queen = line.split(',')\n",
    "        if int(result) == 0 or int(result) == 1:\n",
    "            king_sq = square_name(int(king))\n",
    "            \n",
    "            if king_sq[0] == 'a':\n",
    "                a += 1\n",
    "            if king_sq[0] == 'b':\n",
    "                b += 1\n",
    "            if king_sq[0] == 'c':\n",
    "                c += 1\n",
    "            if king_sq[0] == 'd':\n",
    "                d += 1\n",
    "            if king_sq[0] == 'e':\n",
    "                e += 1\n",
    "            if king_sq[0] == 'f':\n",
    "                f += 1\n",
    "            if king_sq[0] == 'g':\n",
    "                g += 1\n",
    "            if king_sq[0] == 'h':\n",
    "                h += 1\n",
    "                \n",
    "            if king_sq[1] == '1':\n",
    "                r1 += 1\n",
    "            if king_sq[1] == '2':\n",
    "                r2 += 1\n",
    "            if king_sq[1] == '3':\n",
    "                r3 += 1\n",
    "            if king_sq[1] == '4':\n",
    "                r4 += 1\n",
    "            if king_sq[1] == '5':\n",
    "                r5 += 1\n",
    "            if king_sq[1] == '6':\n",
    "                r6 += 1\n",
    "            if king_sq[1] == '7':\n",
    "                r7 += 1\n",
    "            if king_sq[1] == '8':\n",
    "                r8 += 1\n",
    "                \n",
    "        count += 1\n",
    "    print(f\"Parsed {round(count/1000000,1) } million games\")\n"
   ]
  },
  {
   "cell_type": "code",
   "execution_count": null,
   "metadata": {},
   "outputs": [],
   "source": [
    "count = 0\n",
    "then = time.time()\n",
    "\n",
    "with open(path,'r') as pgn:\n",
    "    lines = pgn.readlines(10000000)\n",
    "    for line in lines:\n",
    "        if line[:7] == '[Result':\n",
    "            result = line.split('\"')[1]\n",
    "        if line[:2] == '1.':\n",
    "            count += 1\n",
    "            if result == '1-0' or result == '0-1':\n",
    "                pgn = StringIO(line)                \n",
    "#                 pgn = read_game(pgn) # slow function\n",
    "#                 board = end_board(pgn) # slow function\n",
    "    \n",
    "    elapsed = time.time() - then\n",
    "    print(f\"Took {round(elapsed,2)} seconds\")\n",
    "    print(f\"Parsed {round(count,1) } games\")\n",
    "    print(f\"Will take {round(((elapsed * (400000000/count))/60/60/24),2)} days to parse all\")"
   ]
  },
  {
   "cell_type": "markdown",
   "metadata": {},
   "source": [
    "# Pandas create pivot"
   ]
  },
  {
   "cell_type": "code",
   "execution_count": 44,
   "metadata": {},
   "outputs": [],
   "source": [
    "import numpy as np\n",
    "import pandas as pd\n",
    "import seaborn as sns\n",
    "%matplotlib inline"
   ]
  },
  {
   "cell_type": "code",
   "execution_count": 87,
   "metadata": {},
   "outputs": [],
   "source": [
    "#create a DataFrame with the index set to chess square names, and an empty count column\n",
    "checkmate = pd.DataFrame(SQUARE_NAMES,columns=['square_name'])\n",
    "checkmate.index = df['square_name']\n",
    "checkmate['count'] = 0\n",
    "\n",
    "stalemate = pd.DataFrame(SQUARE_NAMES,columns=['square_name'])\n",
    "stalemate.index = df['square_name']\n",
    "stalemate['count'] = 0"
   ]
  },
  {
   "cell_type": "code",
   "execution_count": 88,
   "metadata": {},
   "outputs": [],
   "source": [
    "#function to match the output of square_name() func to the index of new data frame\n",
    "#adds 1 to the count column\n",
    "def adder(dataframe, sq):\n",
    "    dataframe.at[sq,'count'] += 1"
   ]
  },
  {
   "cell_type": "code",
   "execution_count": 92,
   "metadata": {},
   "outputs": [
    {
     "name": "stdout",
     "output_type": "stream",
     "text": [
      "CPU times: user 12.8 s, sys: 59.7 ms, total: 12.9 s\n",
      "Wall time: 13 s\n"
     ]
    }
   ],
   "source": [
    "%%time\n",
    "#do this for each parsed pgn file\n",
    "for path in paths:\n",
    "    with open(path,'r') as file: \n",
    "        for line in file:\n",
    "            result,king,queen = line.split(',')\n",
    "            \n",
    "            if result == '1' or result == '0': #if checkmate\n",
    "                king = square_name(int(king))\n",
    "                adder(checkmate,king)\n",
    "                \n",
    "            else: #if stalemate\n",
    "                king_white,king_black = [square_name(int(king)) for king in king.split('-')]\n",
    "#                 adder(stalemate,king_white)\n",
    "                adder(stalemate,king_black)\n",
    "        "
   ]
  },
  {
   "cell_type": "code",
   "execution_count": 94,
   "metadata": {},
   "outputs": [
    {
     "data": {
      "text/plain": [
       "<matplotlib.axes._subplots.AxesSubplot at 0x1a18f41f60>"
      ]
     },
     "execution_count": 94,
     "metadata": {},
     "output_type": "execute_result"
    },
    {
     "data": {
      "image/png": "[encoded data removed]",
      "text/plain": [
       "<Figure size 432x288 with 2 Axes>"
      ]
     },
     "metadata": {},
     "output_type": "display_data"
    }
   ],
   "source": [
    "#move the count col into an np.array, then reshape 8x8 to match a chessboard\n",
    "checkmate_counts = np.array(df['count'])\n",
    "checkmate_counts = king_counts.reshape(8,8)\n",
    "\n",
    "#create heatmap\n",
    "sns.heatmap(checkmate_counts)"
   ]
  },
  {
   "cell_type": "code",
   "execution_count": 95,
   "metadata": {},
   "outputs": [
    {
     "data": {
      "text/plain": [
       "<matplotlib.axes._subplots.AxesSubplot at 0x1a19376240>"
      ]
     },
     "execution_count": 95,
     "metadata": {},
     "output_type": "execute_result"
    },
    {
     "data": {
      "image/png": "[encoded data removed]",
      "text/plain": [
       "<Figure size 432x288 with 2 Axes>"
      ]
     },
     "metadata": {},
     "output_type": "display_data"
    }
   ],
   "source": [
    "#move the count col into an np.array, then reshape 8x8 to match a chessboard\n",
    "stalemate_counts = np.array(df['count'])\n",
    "stalemate_counts = king_counts.reshape(8,8)\n",
    "\n",
    "#create heatmap\n",
    "sns.heatmap(stalemate_counts)"
   ]
  },
  {
   "cell_type": "code",
   "execution_count": null,
   "metadata": {},
   "outputs": [],
   "source": []
  },
  {
   "cell_type": "code",
   "execution_count": null,
   "metadata": {},
   "outputs": [],
   "source": []
  }
 ],
 "metadata": {
  "kernelspec": {
   "display_name": "Python 3",
   "language": "python",
   "name": "python3"
  },
  "language_info": {
   "codemirror_mode": {
    "name": "ipython",
    "version": 3
   },
   "file_extension": ".py",
   "mimetype": "text/x-python",
   "name": "python",
   "nbconvert_exporter": "python",
   "pygments_lexer": "ipython3",
   "version": "3.6.4"
  }
 },
 "nbformat": 4,
 "nbformat_minor": 2
}
