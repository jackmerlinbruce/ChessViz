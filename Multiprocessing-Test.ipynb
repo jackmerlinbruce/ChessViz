{
 "cells": [
  {
   "cell_type": "markdown",
   "metadata": {
    "slideshow": {
     "slide_type": "slide"
    }
   },
   "source": [
    "# Multiprocessing and Multithreading"
   ]
  },
  {
   "cell_type": "markdown",
   "metadata": {},
   "source": [
    "#### cloned from https://github.com/brianjp93/Multiprocessing-tuts"
   ]
  },
  {
   "cell_type": "markdown",
   "metadata": {},
   "source": [
    "###### Goal\n",
    "<ul>\n",
    "<li>Speed up code by using multiple processes</li>\n",
    "</ul>\n",
    "\n",
    "###### Options\n",
    "<ul>\n",
    "<li>Multithreading</li>\n",
    "<li>Multiprocessing</li>\n",
    "</ul>"
   ]
  },
  {
   "cell_type": "markdown",
   "metadata": {},
   "source": [
    "#### Multithreading\n",
    "\n",
    "Can use when\n",
    "<ul>\n",
    "<li>Lots time waiting around for a response</li>\n",
    "<ul>\n",
    "<li>Network Requests - http get, post, put</li>\n",
    "</ul>\n",
    "<li>\n",
    "Lots of I/O (Read, Write, Send, Recv...)\n",
    "</li>\n",
    "</ul>\n",
    "\n",
    "##### Still Bound by Global Interpreter Lock"
   ]
  },
  {
   "cell_type": "markdown",
   "metadata": {
    "slideshow": {
     "slide_type": "-"
    }
   },
   "source": [
    "## CPU Bound Threading"
   ]
  },
  {
   "cell_type": "code",
   "execution_count": 1,
   "metadata": {
    "collapsed": false,
    "slideshow": {
     "slide_type": "-"
    }
   },
   "outputs": [],
   "source": [
    "from __future__ import division\n",
    "from threading import Thread\n",
    "import multiprocessing\n",
    "from multiprocessing import Process\n",
    "import time"
   ]
  },
  {
   "cell_type": "markdown",
   "metadata": {},
   "source": [
    "Make a list with 10 million 10's."
   ]
  },
  {
   "cell_type": "code",
   "execution_count": 2,
   "metadata": {
    "collapsed": false
   },
   "outputs": [
    {
     "data": {
      "text/plain": [
       "[10, 10, 10, 10, 10, 10, 10, 10, 10, 10, 10, 10, 10, 10, 10]"
      ]
     },
     "execution_count": 2,
     "metadata": {},
     "output_type": "execute_result"
    }
   ],
   "source": [
    "myLen = 10000000*5\n",
    "myList = [10]*myLen\n",
    "myList[:15]"
   ]
  },
  {
   "cell_type": "code",
   "execution_count": 3,
   "metadata": {
    "collapsed": false
   },
   "outputs": [],
   "source": [
    "def squared(num):\n",
    "    num**2\n",
    "\n",
    "def squareList(lst):\n",
    "    for i in lst:\n",
    "        squared(i)    "
   ]
  },
  {
   "cell_type": "markdown",
   "metadata": {},
   "source": [
    "# Square all of the numbers in the list.\n",
    "\n",
    "Just a regular for loop."
   ]
  },
  {
   "cell_type": "code",
   "execution_count": null,
   "metadata": {
    "collapsed": false
   },
   "outputs": [],
   "source": [
    "def p_plain(list_len):\n",
    "    myLen = list_len\n",
    "    myList = [10]*myLen\n",
    "    \n",
    "    start = time.time() #  Get current time\n",
    "    squareList(myList)\n",
    "    serialprocesstime = time.time() - start\n",
    "    print(\"Squaring 10 million numbers took {} seconds.\".format(round(serialprocesstime,2)))\n",
    "    \n",
    "    return serialprocesstime"
   ]
  },
  {
   "cell_type": "markdown",
   "metadata": {},
   "source": [
    "# Squaring with multiprocessing\n",
    "\n",
    "Let's do the same squaring function we did before, but this time with multiprocessing\n",
    "\n",
    "According to the python docs, pool cannot be used in the interactive interpreter.\n",
    "\n",
    "It seems that this extends to an ipython notebook.\n",
    "<a href=\"https://docs.python.org/3/library/multiprocessing.html#using-a-pool-of-workers\">python pool docs</a>"
   ]
  },
  {
   "cell_type": "code",
   "execution_count": null,
   "metadata": {},
   "outputs": [],
   "source": [
    "def p_multi(list_len):\n",
    "    num_processes = multiprocessing.cpu_count() # number of cores?\n",
    "    \n",
    "    process_list = [] # jobs to be run simultaneously\n",
    "    \n",
    "    # recreate a list of 10 mil numbers\n",
    "    myList = [10]*(list_len//num_processes) # divide the iterable into the number of cores available\n",
    "    \n",
    "    for p in range(num_processes):\n",
    "        p = Process(target=squareList, args=(myList,)) # create two iterations of your target function (\"target=myFunc\")\n",
    "        process_list.append(p)\n",
    "\n",
    "    start = time.time()\n",
    "    for p in process_list:\n",
    "        p.start()\n",
    "\n",
    "    for p in process_list:\n",
    "        p.join() # unsure, but maybe puts everything back together again\n",
    "\n",
    "    squareprocesstime = time.time() - start\n",
    "    print(\"Squaring 10 million numbers took {} seconds with {} processes.\".format(round(squareprocesstime,2),num_processes))\n",
    "    \n",
    "    return squareprocesstime"
   ]
  },
  {
   "cell_type": "markdown",
   "metadata": {},
   "source": [
    "# Limitations\n",
    "\n",
    "Length of job needs to be long enough so that the cost of setting up all the multiprocessing\n",
    "can be outweighed by the speed increases.\n",
    "\n",
    "e.g., \n",
    "    - squaring a list of 10K numbers will be slightly slower with mp\n",
    "    - squaring a list of 100K numbers will be about even\n",
    "    - squaring a list of 1M numbers or more and the mp will begin to be faster\n",
    "    - perhaps the max speed boost is the number of cores? (e.g. 2x boost)"
   ]
  },
  {
   "cell_type": "code",
   "execution_count": null,
   "metadata": {},
   "outputs": [],
   "source": [
    "myLen = 15**6\n",
    "speed_increase = p_plain(myLen) / p_multi(myLen)\n",
    "print(f\"Multiprocessing was {round(speed_increase,2)}X faster.\")"
   ]
  },
  {
   "cell_type": "markdown",
   "metadata": {},
   "source": [
    "# Test with file read/write"
   ]
  },
  {
   "cell_type": "code",
   "execution_count": 4,
   "metadata": {},
   "outputs": [],
   "source": [
    "lenin = \"Lenin's Bolshevik government initially shared power with the Left Socialist Revolutionaries, elected soviets, and a multi-party Constituent Assembly, although by 1918 it had centralised power in the new Communist Party. Lenin's administration redistributed land among the peasantry and nationalised banks and large-scale industry. It withdrew from the First World War by signing a treaty with the Central Powers and promoted world revolution through the Communist International. Opponents were suppressed in the Red Terror, a violent campaign administered by the state security services; tens of thousands were killed or interned in concentration camps. His administration defeated right and left-wing anti-Bolshevik armies in the Russian Civil War from 1917 to 1922 and oversaw the Polish–Soviet War of 1919–1921. Responding to wartime devastation, famine, and popular uprisings, in 1921 Lenin encouraged economic growth through the market-oriented New Economic Policy. Several non-Russian nations secured independence after 1917, but three re-united with Russia through the formation of the Soviet Union in 1922. In increasingly poor health, Lenin expressed opposition to the growing power of his successor, Joseph Stalin, before dying at his dacha in Gorki.\"\n",
    "lenin = lenin.split(\" \")"
   ]
  },
  {
   "cell_type": "code",
   "execution_count": 20,
   "metadata": {},
   "outputs": [],
   "source": [
    "def writer(lst,filename):\n",
    "    with open(filename,\"a\") as file:\n",
    "        for n in range(1000):\n",
    "            for word in lst:\n",
    "                file.write(word + \" \")"
   ]
  },
  {
   "cell_type": "code",
   "execution_count": 6,
   "metadata": {},
   "outputs": [],
   "source": [
    "def write_plain(num_loops):\n",
    "    \n",
    "    start = time.time()\n",
    "    \n",
    "    for n in range(num_loops):\n",
    "        writer(lenin)\n",
    "\n",
    "    processtime = time.time() - start\n",
    "    \n",
    "    return processtime"
   ]
  },
  {
   "cell_type": "code",
   "execution_count": 7,
   "metadata": {},
   "outputs": [],
   "source": [
    "def write_multi(num_loops):\n",
    "    \n",
    "    process_list_1 = []\n",
    "    process_list_2 = []\n",
    "    # need to append HALF the writer()'s to list_1, the other half to list_2 (one process per core)\n",
    "    \n",
    "    for p in range(num_loops):\n",
    "        p = Process(target=writer, args=(lenin,))\n",
    "        process_list.append(p)\n",
    "\n",
    "    start = time.time()\n",
    "    for p in process_list:\n",
    "        p.start()\n",
    "\n",
    "    for p in process_list:\n",
    "        p.join()\n",
    "    processtime = time.time() - start\n",
    "    return processtime"
   ]
  },
  {
   "cell_type": "code",
   "execution_count": 38,
   "metadata": {},
   "outputs": [],
   "source": [
    "def write_plain_2(num_loops):\n",
    "    start = time.time()\n",
    "    for n in range(num_loops):\n",
    "        writer(lenin,\"write_plain.txt\")\n",
    "    processtime = time.time() - start\n",
    "    return processtime"
   ]
  },
  {
   "cell_type": "code",
   "execution_count": 40,
   "metadata": {},
   "outputs": [],
   "source": [
    "def write_multi_2(num_loops):\n",
    "    start = time.time()\n",
    "    p_list = []\n",
    "    for n in range(num_loops):\n",
    "        p = Process(target=writer, args=(lenin,\"write_multi.txt\",))\n",
    "        p_list.append(p)\n",
    "    for p in p_list:\n",
    "        p.start()\n",
    "    processtime = time.time() - start\n",
    "    return processtime"
   ]
  },
  {
   "cell_type": "code",
   "execution_count": 60,
   "metadata": {},
   "outputs": [
    {
     "name": "stdout",
     "output_type": "stream",
     "text": [
      "Multiprocessing was 18.91X faster.\n"
     ]
    }
   ],
   "source": [
    "n_times = 2\n",
    "speed_increase = write_plain_2(n_times) / write_multi_2(n_times)\n",
    "print(f\"Multiprocessing was {round(speed_increase,2)}X faster.\")"
   ]
  },
  {
   "cell_type": "markdown",
   "metadata": {},
   "source": [
    "# Test with PGN parsing"
   ]
  },
  {
   "cell_type": "code",
   "execution_count": null,
   "metadata": {},
   "outputs": [],
   "source": []
  }
 ],
 "metadata": {
  "kernelspec": {
   "display_name": "Python 3",
   "language": "python",
   "name": "python3"
  },
  "language_info": {
   "codemirror_mode": {
    "name": "ipython",
    "version": 3
   },
   "file_extension": ".py",
   "mimetype": "text/x-python",
   "name": "python",
   "nbconvert_exporter": "python",
   "pygments_lexer": "ipython3",
   "version": "3.6.4"
  }
 },
 "nbformat": 4,
 "nbformat_minor": 2
}
