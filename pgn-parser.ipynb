{
 "cells": [
  {
   "cell_type": "code",
   "execution_count": 1,
   "metadata": {},
   "outputs": [],
   "source": [
    "import os\n",
    "import sys\n",
    "import chess.pgn as pychess\n",
    "from chess.pgn import read_game\n",
    "from chess import square_name\n",
    "from chess import SQUARE_NAMES, BB_SQUARES\n",
    "import ChessFuncs\n",
    "from ChessFuncs import end_board\n",
    "import bz2\n",
    "import time\n",
    "from io import StringIO\n",
    "from multiprocessing import Process\n",
    "import time"
   ]
  },
  {
   "cell_type": "code",
   "execution_count": 2,
   "metadata": {},
   "outputs": [],
   "source": [
    "# in_path = \"/Volumes/SAMSUNG EVO SSD 500GB/pgn3.txt\"\n",
    "# temp_path = \"/Volumes/SAMSUNG EVO SSD 500GB/pgn-chunk.txt\"\n",
    "# out_path = \"/Volumes/SAMSUNG EVO SSD 500GB/chess-results-3.txt\""
   ]
  },
  {
   "cell_type": "code",
   "execution_count": 3,
   "metadata": {},
   "outputs": [],
   "source": [
    "in_path = \"test-pgns.txt\"\n",
    "out_path = \"test-results.txt\""
   ]
  },
  {
   "cell_type": "code",
   "execution_count": 5,
   "metadata": {},
   "outputs": [],
   "source": [
    "def end_board(parsed_pgn_file):\n",
    "    current_board = parsed_pgn_file.board()\n",
    "    for move in parsed_pgn_file.main_line():\n",
    "        current_board.push(move)    \n",
    "    \n",
    "    return current_board"
   ]
  },
  {
   "cell_type": "code",
   "execution_count": 6,
   "metadata": {},
   "outputs": [],
   "source": [
    "def main():\n",
    "    with open(in_path) as bigfile:\n",
    "        pgn = []\n",
    "        for line in bigfile:  \n",
    "            if line.startswith(\"[Event\"):\n",
    "                pgn.append(line)\n",
    "            elif line.startswith(\"1. \"):\n",
    "                pgn.append(line)\n",
    "                pgn = \"\".join(pgn)\n",
    "                pgn = StringIO(pgn)\n",
    "                pgn = read_game(pgn)\n",
    "                result = pgn.headers[\"Result\"]\n",
    "                board = end_board(pgn)\n",
    "                 \n",
    "                if result in [\"1-0\",\"0-1\"] and board.is_checkmate():\n",
    "                    if result == \"1-0\":\n",
    "                        king_num = board.king(0) # BLACK loses\n",
    "                    if result == \"0-1\":\n",
    "                        king_num = board.king(1) # WHITE loses\n",
    "                    with open(out_path, \"a\") as results:\n",
    "                        results.write(\"%i\\n\" % king_num)     \n",
    "                else:\n",
    "                    pass # if you want to save other data\n",
    "                \n",
    "                pgn = []\n",
    "                \n",
    "            else:\n",
    "                pgn.append(line)"
   ]
  },
  {
   "cell_type": "code",
   "execution_count": null,
   "metadata": {},
   "outputs": [],
   "source": [
    "%%time\n",
    "main()\n",
    "# this took 7 min 1s to run a 90mb PGN file"
   ]
  },
  {
   "cell_type": "code",
   "execution_count": null,
   "metadata": {},
   "outputs": [],
   "source": [
    "multiplier = round(409700297/121332)\n",
    "mins = 7 * multiplier\n",
    "hours = mins / 60\n",
    "days = hours / 24\n",
    "days_to_run = round(days,1)\n",
    "print(days_to_run)"
   ]
  },
  {
   "cell_type": "markdown",
   "metadata": {},
   "source": [
    "# Test Multiprocessing\n",
    "Code below parses two PGN files at once, for about a 2X speed increase"
   ]
  },
  {
   "cell_type": "code",
   "execution_count": 13,
   "metadata": {},
   "outputs": [],
   "source": [
    "pgn1 = \"test-pgns.txt\"\n",
    "pgn2 = \"test-pgns-2.txt\""
   ]
  },
  {
   "cell_type": "code",
   "execution_count": 8,
   "metadata": {},
   "outputs": [],
   "source": [
    "#the thing which will run simultaneously\n",
    "def main(pgn_file):\n",
    "    \n",
    "    with open(pgn_file) as bigfile:\n",
    "        pgn = []\n",
    "        for line in bigfile:  \n",
    "            if line.startswith(\"[Event\"):\n",
    "                pgn.append(line)\n",
    "            elif line.startswith(\"1. \"):\n",
    "                pgn.append(line)\n",
    "                pgn = \"\".join(pgn)\n",
    "                pgn = StringIO(pgn)\n",
    "                pgn = read_game(pgn)\n",
    "                result = pgn.headers[\"Result\"]\n",
    "                board = end_board(pgn)\n",
    "                 \n",
    "                if result in [\"1-0\",\"0-1\"] and board.is_checkmate():\n",
    "                    if result == \"1-0\":\n",
    "                        king_num = board.king(0) # BLACK loses\n",
    "                    if result == \"0-1\":\n",
    "                        king_num = board.king(1) # WHITE loses\n",
    "                    with open(out_path, \"a\") as results:\n",
    "                        results.write(\"%i\\n\" % king_num)     \n",
    "                else:\n",
    "                    pass # if you want to save other data\n",
    "                \n",
    "                pgn = []\n",
    "                \n",
    "            else:\n",
    "                pgn.append(line)"
   ]
  },
  {
   "cell_type": "code",
   "execution_count": 15,
   "metadata": {},
   "outputs": [],
   "source": [
    "def plain():\n",
    "    start = time.time()\n",
    "    print(\"starting 1\")\n",
    "    main(pgn1)\n",
    "    print(\"starting 2\")\n",
    "    main(pgn2)\n",
    "    processtime = time.time() - start\n",
    "    return processtime"
   ]
  },
  {
   "cell_type": "code",
   "execution_count": 19,
   "metadata": {},
   "outputs": [],
   "source": [
    "def multi():\n",
    "    start = time.time()\n",
    "    p1 = Process(target=main, args=(pgn1,))\n",
    "    p2 = Process(target=main, args=(pgn2,))\n",
    "    p1.start()\n",
    "    p2.start()\n",
    "    p1.join()\n",
    "    p2.join()\n",
    "    processtime = time.time() - start\n",
    "    return processtime"
   ]
  },
  {
   "cell_type": "code",
   "execution_count": 11,
   "metadata": {},
   "outputs": [
    {
     "name": "stdout",
     "output_type": "stream",
     "text": [
      "Multiprocessing was 10264.79X faster.\n"
     ]
    }
   ],
   "source": [
    "speed_increase = plain() / multi()\n",
    "print(f\"Multiprocessing was {round(speed_increase,2)}X faster.\")"
   ]
  },
  {
   "cell_type": "code",
   "execution_count": 21,
   "metadata": {},
   "outputs": [
    {
     "name": "stdout",
     "output_type": "stream",
     "text": [
      "starting 1\n",
      "starting 2\n",
      "CPU times: user 20 s, sys: 263 ms, total: 20.3 s\n",
      "Wall time: 20.3 s\n"
     ]
    },
    {
     "data": {
      "text/plain": [
       "20.3317129611969"
      ]
     },
     "execution_count": 21,
     "metadata": {},
     "output_type": "execute_result"
    }
   ],
   "source": [
    "%%time\n",
    "plain()"
   ]
  },
  {
   "cell_type": "code",
   "execution_count": 20,
   "metadata": {},
   "outputs": [
    {
     "name": "stdout",
     "output_type": "stream",
     "text": [
      "CPU times: user 3.58 ms, sys: 9.99 ms, total: 13.6 ms\n",
      "Wall time: 11.3 s\n"
     ]
    },
    {
     "data": {
      "text/plain": [
       "11.303863048553467"
      ]
     },
     "execution_count": 20,
     "metadata": {},
     "output_type": "execute_result"
    }
   ],
   "source": [
    "%%time\n",
    "multi()"
   ]
  },
  {
   "cell_type": "code",
   "execution_count": 66,
   "metadata": {},
   "outputs": [],
   "source": [
    "def check_same_file():\n",
    "    import pandas as pd\n",
    "    pdf = pd.read_csv(\"test-results-plain.txt\", names=[\"king\"])\n",
    "    mdf = pd.read_csv(\"test-results-multi.txt\", names=[\"king\"])\n",
    "    return pdf['king'].mode() == mdf['king'].mode()"
   ]
  },
  {
   "cell_type": "code",
   "execution_count": null,
   "metadata": {},
   "outputs": [],
   "source": []
  },
  {
   "cell_type": "code",
   "execution_count": null,
   "metadata": {},
   "outputs": [],
   "source": []
  },
  {
   "cell_type": "code",
   "execution_count": null,
   "metadata": {},
   "outputs": [],
   "source": []
  }
 ],
 "metadata": {
  "kernelspec": {
   "display_name": "Python 3",
   "language": "python",
   "name": "python3"
  },
  "language_info": {
   "codemirror_mode": {
    "name": "ipython",
    "version": 3
   },
   "file_extension": ".py",
   "mimetype": "text/x-python",
   "name": "python",
   "nbconvert_exporter": "python",
   "pygments_lexer": "ipython3",
   "version": "3.6.4"
  }
 },
 "nbformat": 4,
 "nbformat_minor": 2
}
