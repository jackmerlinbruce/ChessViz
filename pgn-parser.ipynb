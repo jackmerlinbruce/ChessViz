{
 "cells": [
  {
   "cell_type": "code",
   "execution_count": null,
   "metadata": {},
   "outputs": [],
   "source": [
    "# TO DO:\n",
    "    # convert \"a\",\"b\" into numbers 1-8 (takes up less memory)\n",
    "    # make sure only two cols (\"rank\" & \"file\")\n",
    "    # create pivot table iteratively (like streaming)\n",
    "        # so that the whole thing doesn't have to be held in memory\n",
    "        # maybe has to be done manually\n",
    "        \n",
    "# https://lethain.com/handling-very-large-csv-and-xml-files-in-python/\n",
    "# https://stackabuse.com/read-a-file-line-by-line-in-python/\n",
    "        "
   ]
  },
  {
   "cell_type": "code",
   "execution_count": 1,
   "metadata": {},
   "outputs": [
    {
     "name": "stdout",
     "output_type": "stream",
     "text": [
      "Is this updated to GIT?\n"
     ]
    }
   ],
   "source": [
    "print(\"Is this updated to GIT?\")"
   ]
  },
  {
   "cell_type": "code",
   "execution_count": 1,
   "metadata": {},
   "outputs": [],
   "source": [
    "import os\n",
    "import sys\n",
    "import pandas as pd\n",
    "import chess.pgn as pychess\n",
    "from chess import square_name\n",
    "from chess import SQUARE_NAMES, BB_SQUARES\n",
    "import seaborn as sns\n",
    "import ChessFuncs\n",
    "import bz2\n",
    "import time\n",
    "import io\n",
    "\n",
    "def unzip(zipped_pgn):\n",
    "    '''\n",
    "    unzips .bz2 pgn files: zipped_pgn\n",
    "    maybe won't work if \"data\" variable is saved to RAM, as some unzipped files will be 20GB+ !\n",
    "    '''\n",
    "    \n",
    "    filepath = zipped_pgn\n",
    "    zipfile = bz2.BZ2File(filepath)\n",
    "    data = zipfile.read()\n",
    "    newfilepath = \"pgn1.txt\"\n",
    "    open(newfilepath, 'wb').write(data) \n",
    "\n",
    "def parse_pgn(pgn_list):\n",
    "    '''\n",
    "    1) takes a list of pgn lines\n",
    "    2) writes line to file on disk \n",
    "    3) returns a py-chess pgn object\n",
    "    '''\n",
    "    \n",
    "    with open(\"pgn-chunk.txt\", \"w\") as pgn_chunk:\n",
    "        for line in pgn_list:\n",
    "            pgn_chunk.write(line)\n",
    "            \n",
    "    parsed_pgn = pychess.read_game(open(\"pgn-chunk.txt\"))\n",
    "    return parsed_pgn\n",
    "\n",
    "def num_chess_games(pgn_path):\n",
    "    '''\n",
    "    Uses the decompressed lichess.org pgn file sizes to predict the number of chess games inside.\n",
    "    Means a for loop doesn't have to load the entire thing before hand.\n",
    "    '''\n",
    "    pgn_size = os.stat(pgn_path).st_size\n",
    "    x = 121332/92811021\n",
    "    return round(pgn_size*x)\n",
    "\n",
    "def cpuTime(t=\"days\"):\n",
    "    '''Estimated of the total time to process 400 million games of chess'''\n",
    "    \n",
    "    mins = (1300/450) * 7\n",
    "    x = (409700297/121332)\n",
    "    hours = (mins * x)/60\n",
    "    days = hours/24\n",
    "    \n",
    "    if t == \"hours\":\n",
    "        return round(hours)\n",
    "    if t == \"days\":\n",
    "        return round(days)"
   ]
  },
  {
   "cell_type": "code",
   "execution_count": 2,
   "metadata": {},
   "outputs": [],
   "source": [
    "in_path = \"/Volumes/SAMSUNG EVO SSD 500GB/pgn3.txt\"\n",
    "temp_path = \"/Volumes/SAMSUNG EVO SSD 500GB/pgn-chunk.txt\"\n",
    "out_path = \"/Volumes/SAMSUNG EVO SSD 500GB/chess-results-3.txt\""
   ]
  },
  {
   "cell_type": "code",
   "execution_count": 3,
   "metadata": {},
   "outputs": [
    {
     "name": "stdout",
     "output_type": "stream",
     "text": [
      "Started: Sat Aug 18 00:15:27 2018\n"
     ]
    },
    {
     "ename": "KeyboardInterrupt",
     "evalue": "",
     "output_type": "error",
     "traceback": [
      "\u001b[0;31m---------------------------------------------------------------------------\u001b[0m",
      "\u001b[0;31mAttributeError\u001b[0m                            Traceback (most recent call last)",
      "\u001b[0;32m<ipython-input-3-3059822d0e96>\u001b[0m in \u001b[0;36m<module>\u001b[0;34m()\u001b[0m\n\u001b[1;32m     40\u001b[0m             \u001b[0;32melse\u001b[0m\u001b[0;34m:\u001b[0m\u001b[0;34m\u001b[0m\u001b[0m\n\u001b[0;32m---> 41\u001b[0;31m                 \u001b[0mpgn\u001b[0m\u001b[0;34m.\u001b[0m\u001b[0mappend\u001b[0m\u001b[0;34m(\u001b[0m\u001b[0mline\u001b[0m\u001b[0;34m)\u001b[0m \u001b[0;31m# appends all INBETWEEN lines of the PGN\u001b[0m\u001b[0;34m\u001b[0m\u001b[0m\n\u001b[0m\u001b[1;32m     42\u001b[0m \u001b[0;34m\u001b[0m\u001b[0m\n",
      "\u001b[0;31mAttributeError\u001b[0m: 'Game' object has no attribute 'append'",
      "\nDuring handling of the above exception, another exception occurred:\n",
      "\u001b[0;31mKeyboardInterrupt\u001b[0m                         Traceback (most recent call last)",
      "\u001b[0;32m<ipython-input-3-3059822d0e96>\u001b[0m in \u001b[0;36m<module>\u001b[0;34m()\u001b[0m\n\u001b[1;32m     39\u001b[0m \u001b[0;34m\u001b[0m\u001b[0m\n\u001b[1;32m     40\u001b[0m             \u001b[0;32melse\u001b[0m\u001b[0;34m:\u001b[0m\u001b[0;34m\u001b[0m\u001b[0m\n\u001b[0;32m---> 41\u001b[0;31m                 \u001b[0mpgn\u001b[0m\u001b[0;34m.\u001b[0m\u001b[0mappend\u001b[0m\u001b[0;34m(\u001b[0m\u001b[0mline\u001b[0m\u001b[0;34m)\u001b[0m \u001b[0;31m# appends all INBETWEEN lines of the PGN\u001b[0m\u001b[0;34m\u001b[0m\u001b[0m\n\u001b[0m\u001b[1;32m     42\u001b[0m \u001b[0;34m\u001b[0m\u001b[0m\n\u001b[1;32m     43\u001b[0m         \u001b[0;32mexcept\u001b[0m \u001b[0mException\u001b[0m \u001b[0;32mas\u001b[0m \u001b[0me\u001b[0m\u001b[0;34m:\u001b[0m\u001b[0;34m\u001b[0m\u001b[0m\n",
      "\u001b[0;31mKeyboardInterrupt\u001b[0m: "
     ]
    }
   ],
   "source": [
    "# for file...pgn.bz2 in os.listdir(directory):\n",
    "#     file = unzip(file)\n",
    "#     in_path = file.name[:-4]\n",
    "#     ...\n",
    "#     os.remove(in_path)\n",
    "    \n",
    "print(\"Started:\",time.asctime())\n",
    "with open(in_path) as bigfile:\n",
    "    \n",
    "    count_lines = 0\n",
    "    count_games = 0\n",
    "    pgn = []\n",
    "    while count_games < num_chess_games(in_path): # each loop this moves on 1x line\n",
    "        \n",
    "        try:\n",
    "\n",
    "            line = bigfile.readline()\n",
    "            count_lines += 1\n",
    "\n",
    "            if line.startswith(\"[Event\"):\n",
    "                pgn.append(line) # appends the FIRST line of the pgn\n",
    "\n",
    "            elif line.startswith(\"1. \"):\n",
    "                pgn.append(line) # appends the FINAL line of the pgn\n",
    "                pgn = \"\".join(pgn) # concatenate pgn list into string\n",
    "                pgn = io.StringIO(pgn) # create virtual pgn file in RAM using StringIO\n",
    "                pgn = pychess.read_game(pgn) # create virtual pgn py-chess object\n",
    "                end_board = ChessFuncs.end_board(pgn)\n",
    "\n",
    "                king_num = ChessFuncs.get_check_mate_pos_3(pgn) #!!!! NEED to make sure loser is only 1 or 0, not \"*\"\n",
    "                with open(out_path, \"a\") as results: #!!!! NEED to save name marker in case of crash\n",
    "                    if end_board.is_checkmate() and (pgn.headers[\"Result\"] in [\"1-0\",\"0-1\"]):\n",
    "                        results.write(f\"{king_num}\\n\") # writes results\n",
    "                    else:\n",
    "                        pass\n",
    "\n",
    "                pgn = [] # resets pgn for next game loop\n",
    "                count_games += 1\n",
    "\n",
    "            else:\n",
    "                pgn.append(line) # appends all INBETWEEN lines of the PGN\n",
    "        \n",
    "        except Exception as e:\n",
    "            pass\n",
    "            \n",
    "print(\"Finished:\",time.asctime())\n"
   ]
  },
  {
   "cell_type": "code",
   "execution_count": 9,
   "metadata": {},
   "outputs": [
    {
     "data": {
      "text/plain": [
       "374666"
      ]
     },
     "execution_count": 9,
     "metadata": {},
     "output_type": "execute_result"
    }
   ],
   "source": [
    "count_games"
   ]
  },
  {
   "cell_type": "code",
   "execution_count": null,
   "metadata": {},
   "outputs": [],
   "source": []
  },
  {
   "cell_type": "code",
   "execution_count": null,
   "metadata": {},
   "outputs": [],
   "source": []
  },
  {
   "cell_type": "code",
   "execution_count": null,
   "metadata": {},
   "outputs": [],
   "source": []
  },
  {
   "cell_type": "code",
   "execution_count": null,
   "metadata": {},
   "outputs": [],
   "source": []
  },
  {
   "cell_type": "code",
   "execution_count": null,
   "metadata": {},
   "outputs": [],
   "source": []
  },
  {
   "cell_type": "code",
   "execution_count": null,
   "metadata": {},
   "outputs": [],
   "source": [
    "#gets position of queen if and only if queen is checkmating\n",
    "pgn = pychess.read_game(open(\"pgn-chunk.txt\"))\n",
    "board = pgn.board()\n",
    "board = ChessFuncs.end_board(pgn)\n",
    "print(str(board.attackers(white,24))) # needs to know if queen is attacking king square\n",
    "print(\"\\n\")\n",
    "print(str(board))\n",
    "board"
   ]
  },
  {
   "cell_type": "code",
   "execution_count": null,
   "metadata": {},
   "outputs": [],
   "source": [
    "#gets position of queen, check agains 'sq'\n",
    "sq = [i for i in zip(SQUARE_NAMES,BB_SQUARES)]\n",
    "\n",
    "queen = 5\n",
    "white = 1\n",
    "black = 0\n",
    "x = board.pieces(queen, black)\n",
    "x.mask"
   ]
  }
 ],
 "metadata": {
  "kernelspec": {
   "display_name": "Python 3",
   "language": "python",
   "name": "python3"
  },
  "language_info": {
   "codemirror_mode": {
    "name": "ipython",
    "version": 3
   },
   "file_extension": ".py",
   "mimetype": "text/x-python",
   "name": "python",
   "nbconvert_exporter": "python",
   "pygments_lexer": "ipython3",
   "version": "3.6.4"
  }
 },
 "nbformat": 4,
 "nbformat_minor": 2
}
