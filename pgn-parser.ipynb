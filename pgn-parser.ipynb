{
 "cells": [
  {
   "cell_type": "code",
   "execution_count": 19,
   "metadata": {},
   "outputs": [],
   "source": [
    "import os\n",
    "import sys\n",
    "import chess.pgn as pychess\n",
    "from chess.pgn import read_game\n",
    "from chess import square_name\n",
    "from chess import SQUARE_NAMES, BB_SQUARES\n",
    "import ChessFuncs\n",
    "from ChessFuncs import end_board\n",
    "import bz2\n",
    "import time\n",
    "from io import StringIO\n",
    "from multiprocessing import Process\n",
    "import time\n",
    "from time import sleep\n",
    "import time"
   ]
  },
  {
   "cell_type": "markdown",
   "metadata": {},
   "source": [
    "# MultiParsing Chess PGN Files\n",
    "Code below parses multiple PGN files at once, for about a 1.5-3X speed increase.\n",
    "Try to parse only as many files as CPU Cores available."
   ]
  },
  {
   "cell_type": "code",
   "execution_count": null,
   "metadata": {},
   "outputs": [],
   "source": [
    "multiplier = round(409700297/121332)\n",
    "mins = 7 * multiplier\n",
    "hours = mins / 60\n",
    "days = hours / 24\n",
    "days_to_run = round(days,1)\n",
    "print(days_to_run)"
   ]
  },
  {
   "cell_type": "code",
   "execution_count": 6,
   "metadata": {},
   "outputs": [
    {
     "data": {
      "text/plain": [
       "['lichess_db_standard_rated_2014-01.pgn',\n",
       " 'lichess_db_standard_rated_2014-02.pgn',\n",
       " 'lichess_db_standard_rated_2014-03.pgn',\n",
       " 'lichess_db_standard_rated_2014-04.pgn']"
      ]
     },
     "execution_count": 6,
     "metadata": {},
     "output_type": "execute_result"
    }
   ],
   "source": [
    "#Create list of PGN files\n",
    "pgns = [file for file in os.listdir() if \"lichess\" in file]\n",
    "out_path = \"test-results.txt\"\n",
    "pgns"
   ]
  },
  {
   "cell_type": "code",
   "execution_count": 20,
   "metadata": {},
   "outputs": [],
   "source": [
    "#the thing which will run simultaneously\n",
    "def main(pgn_file, out_path):\n",
    "    '''\n",
    "    Takes in one long/concatenated PGN file and spits out the end king squares to an output file.\n",
    "    '''\n",
    "    \n",
    "    def end_board(parsed_pgn_file):\n",
    "        '''Moves the py-chess board obj to the final move.'''\n",
    "        current_board = parsed_pgn_file.board()\n",
    "        for move in parsed_pgn_file.main_line():\n",
    "            current_board.push(move)    \n",
    "\n",
    "        return current_board\n",
    "    \n",
    "    with open(pgn_file) as bigfile:\n",
    "        pgn = []\n",
    "        then = time.time()\n",
    "        for line in bigfile:\n",
    "            \n",
    "            #Every 20 minutes, sleep for 2 minutes\n",
    "            elapsed = time.time() - then\n",
    "            if elapsed > 1200:\n",
    "                print(\"Sleeping for 2 minutes\")\n",
    "                sleep(120)\n",
    "                then = time.time()\n",
    "        \n",
    "            if line.startswith(\"[Event\"):\n",
    "                pgn.append(line)\n",
    "            elif line.startswith(\"1. \"):\n",
    "                pgn.append(line)\n",
    "                pgn = \"\".join(pgn)\n",
    "                pgn = StringIO(pgn)\n",
    "                pgn = read_game(pgn)\n",
    "                result = pgn.headers[\"Result\"]\n",
    "                board = end_board(pgn)\n",
    "                 \n",
    "                if result in [\"1-0\",\"0-1\"] and board.is_checkmate():\n",
    "                    if result == \"1-0\":\n",
    "                        king_num = board.king(0) # BLACK loses\n",
    "                    if result == \"0-1\":\n",
    "                        king_num = board.king(1) # WHITE loses\n",
    "                    with open(out_path, \"a\") as results:\n",
    "                        results.write(\"%i\\n\" % king_num)     \n",
    "                else:\n",
    "                    pass # if you want to save other data\n",
    "                \n",
    "                pgn = []\n",
    "                \n",
    "            else:\n",
    "                pgn.append(line)"
   ]
  },
  {
   "cell_type": "code",
   "execution_count": 21,
   "metadata": {},
   "outputs": [],
   "source": [
    "def single_parse(pgn_file_list, out_path):\n",
    "    '''\n",
    "    Takes in a list of long/concatenated pgn files:\n",
    "    Read one pgn file at a time. \n",
    "    Made to show the speed difference between multiprocessing and singleprocessing.\n",
    "    '''\n",
    "    start = time.time()\n",
    "    for pgn_file in pgn_file_list:\n",
    "        main(pgn_file,out_path)\n",
    "    processtime = time.time() - start\n",
    "    print(\"single\",processtime)\n",
    "    return processtime"
   ]
  },
  {
   "cell_type": "code",
   "execution_count": 22,
   "metadata": {},
   "outputs": [],
   "source": [
    "def multi_parse(pgn_file_list, out_path):\n",
    "    #TO DO:\n",
    "        #stagger multiprocess by number of cores\n",
    "        #e.g. 8 files with 2 cores runs 4 times\n",
    "        #e.g. 8 files with 4 cores runs 2 times\n",
    "    '''\n",
    "    Takes in a list of long/concatenated pgn files.\n",
    "    Passes each file into a multiprocessing unit for the main_parse() function.\n",
    "    Read multiples pgn files at once and write to same output file.\n",
    "    \n",
    "    Basically a for-looped version of this:    \n",
    "        def multi():\n",
    "            start = time.time()\n",
    "            p1 = Process(target=main, args=(pgn1,))\n",
    "            p2 = Process(target=main, args=(pgn2,))\n",
    "            p3 = Process(target=main, args=(pgn3,))\n",
    "            p4 = Process(target=main, args=(pgn4,))\n",
    "            p1.start()\n",
    "            p2.start()\n",
    "            p3.start()\n",
    "            p4.start()\n",
    "            p1.join()\n",
    "            p2.join()\n",
    "            p3.join()\n",
    "            p4.join()\n",
    "            processtime = time.time() - start\n",
    "            return processtime\n",
    "    \n",
    "    '''\n",
    "    start = time.time()\n",
    "    \n",
    "    process_list = []\n",
    "    for pgn_file in pgn_file_list:\n",
    "        process = Process(target=main, args=(pgn_file,out_path))\n",
    "        process_list.append(process)\n",
    "    for process in process_list:\n",
    "        process.start()\n",
    "    for p in process_list:\n",
    "        process.join()\n",
    "\n",
    "    processtime = time.time() - start\n",
    "    print(\"multi\",processtime)\n",
    "    return processtime\n"
   ]
  },
  {
   "cell_type": "code",
   "execution_count": null,
   "metadata": {},
   "outputs": [],
   "source": [
    "if __name__ == \"__main__\":\n",
    "#     ChessFuncs.speed_increase(single_parse(pgns, out_path_s),multi_parse(pgns, out_path_m))\n",
    "    multi_parse(pgns, out_path)"
   ]
  },
  {
   "cell_type": "code",
   "execution_count": null,
   "metadata": {},
   "outputs": [],
   "source": []
  },
  {
   "cell_type": "code",
   "execution_count": null,
   "metadata": {},
   "outputs": [],
   "source": []
  },
  {
   "cell_type": "code",
   "execution_count": null,
   "metadata": {},
   "outputs": [],
   "source": []
  },
  {
   "cell_type": "code",
   "execution_count": null,
   "metadata": {},
   "outputs": [],
   "source": []
  }
 ],
 "metadata": {
  "kernelspec": {
   "display_name": "Python 3",
   "language": "python",
   "name": "python3"
  },
  "language_info": {
   "codemirror_mode": {
    "name": "ipython",
    "version": 3
   },
   "file_extension": ".py",
   "mimetype": "text/x-python",
   "name": "python",
   "nbconvert_exporter": "python",
   "pygments_lexer": "ipython3",
   "version": "3.6.5"
  }
 },
 "nbformat": 4,
 "nbformat_minor": 2
}
