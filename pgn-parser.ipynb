{
 "cells": [
  {
   "cell_type": "code",
   "execution_count": 1,
   "metadata": {},
   "outputs": [],
   "source": [
    "import os\n",
    "import sys\n",
    "import chess.pgn as pychess\n",
    "from chess.pgn import read_game\n",
    "from chess import square_name\n",
    "from chess import SQUARE_NAMES, BB_SQUARES\n",
    "import ChessFuncs\n",
    "from ChessFuncs import end_board\n",
    "import bz2\n",
    "import time\n",
    "from io import StringIO\n",
    "from multiprocessing import Process\n",
    "import time"
   ]
  },
  {
   "cell_type": "markdown",
   "metadata": {},
   "source": [
    "# MultiParsing Chess PGN Files\n",
    "Code below parses multiple PGN files at once, for about a 1.5-3X speed increase.\n",
    "Try to parse only as many files as CPU Cores available."
   ]
  },
  {
   "cell_type": "code",
   "execution_count": null,
   "metadata": {},
   "outputs": [],
   "source": [
    "multiplier = round(409700297/121332)\n",
    "mins = 7 * multiplier\n",
    "hours = mins / 60\n",
    "days = hours / 24\n",
    "days_to_run = round(days,1)\n",
    "print(days_to_run)"
   ]
  },
  {
   "cell_type": "code",
   "execution_count": 2,
   "metadata": {},
   "outputs": [],
   "source": [
    "#Create list of PGN files\n",
    "pgns = [file for file in os.listdir() if \"test-pgn\" in file]\n",
    "out_path = \"test-results.txt\""
   ]
  },
  {
   "cell_type": "code",
   "execution_count": 3,
   "metadata": {},
   "outputs": [],
   "source": [
    "#the thing which will run simultaneously\n",
    "def main(pgn_file):\n",
    "    '''\n",
    "    Takes in one long/concatenated PGN file and spits out the end king squares to an output file.\n",
    "    '''\n",
    "    \n",
    "    def end_board(parsed_pgn_file):\n",
    "        '''Moves the py-chess board obj to the final move.'''\n",
    "        current_board = parsed_pgn_file.board()\n",
    "        for move in parsed_pgn_file.main_line():\n",
    "            current_board.push(move)    \n",
    "\n",
    "        return current_board\n",
    "    \n",
    "    with open(pgn_file) as bigfile:\n",
    "        pgn = []\n",
    "        for line in bigfile:  \n",
    "            if line.startswith(\"[Event\"):\n",
    "                pgn.append(line)\n",
    "            elif line.startswith(\"1. \"):\n",
    "                pgn.append(line)\n",
    "                pgn = \"\".join(pgn)\n",
    "                pgn = StringIO(pgn)\n",
    "                pgn = read_game(pgn)\n",
    "                result = pgn.headers[\"Result\"]\n",
    "                board = end_board(pgn)\n",
    "                 \n",
    "                if result in [\"1-0\",\"0-1\"] and board.is_checkmate():\n",
    "                    if result == \"1-0\":\n",
    "                        king_num = board.king(0) # BLACK loses\n",
    "                    if result == \"0-1\":\n",
    "                        king_num = board.king(1) # WHITE loses\n",
    "                    with open(out_path, \"a\") as results:\n",
    "                        results.write(\"%i\\n\" % king_num)     \n",
    "                else:\n",
    "                    pass # if you want to save other data\n",
    "                \n",
    "                pgn = []\n",
    "                \n",
    "            else:\n",
    "                pgn.append(line)"
   ]
  },
  {
   "cell_type": "code",
   "execution_count": 4,
   "metadata": {},
   "outputs": [],
   "source": [
    "def single_parse(pgn_file_list):\n",
    "    '''\n",
    "    Takes in a list of long/concatenated pgn files:\n",
    "    Read one pgn file at a time. \n",
    "    Made to show the speed difference between multiprocessing and singleprocessing.\n",
    "    '''\n",
    "    start = time.time()\n",
    "    for pgn_file in pgn_file_list:\n",
    "        main(pgn_file)\n",
    "    processtime = time.time() - start\n",
    "    return processtime"
   ]
  },
  {
   "cell_type": "code",
   "execution_count": 5,
   "metadata": {},
   "outputs": [],
   "source": [
    "def multi_parse(pgn_file_list):\n",
    "    #TO DO:\n",
    "        #stagger multiprocess by number of cores\n",
    "        #e.g. 8 files with 2 cores runs 4 times\n",
    "        #e.g. 8 files with 4 cores runs 2 times\n",
    "    '''\n",
    "    Takes in a list of long/concatenated pgn files.\n",
    "    Passes each file into a multiprocessing unit for the main_parse() function.\n",
    "    Read multiples pgn files at once and write to same output file.\n",
    "    \n",
    "    Basically a for-looped version of this:    \n",
    "        def multi():\n",
    "            start = time.time()\n",
    "            p1 = Process(target=main, args=(pgn1,))\n",
    "            p2 = Process(target=main, args=(pgn2,))\n",
    "            p3 = Process(target=main, args=(pgn3,))\n",
    "            p4 = Process(target=main, args=(pgn4,))\n",
    "            p1.start()\n",
    "            p2.start()\n",
    "            p3.start()\n",
    "            p4.start()\n",
    "            p1.join()\n",
    "            p2.join()\n",
    "            p3.join()\n",
    "            p4.join()\n",
    "            processtime = time.time() - start\n",
    "            return processtime\n",
    "    \n",
    "    '''\n",
    "    start = time.time()\n",
    "    \n",
    "    process_list = []\n",
    "    for pgn_file in pgn_file_list:\n",
    "        process = Process(target=main, args=(pgn_file,))\n",
    "        process_list.append(process)\n",
    "    for process in process_list:\n",
    "        process.start()\n",
    "    for p in process_list:\n",
    "        process.join()\n",
    "\n",
    "    processtime = time.time() - start\n",
    "    return processtime"
   ]
  },
  {
   "cell_type": "code",
   "execution_count": 8,
   "metadata": {},
   "outputs": [
    {
     "ename": "KeyboardInterrupt",
     "evalue": "",
     "output_type": "error",
     "traceback": [
      "\u001b[0;31m---------------------------------------------------------------------------\u001b[0m",
      "\u001b[0;31mKeyboardInterrupt\u001b[0m                         Traceback (most recent call last)",
      "\u001b[0;32m<ipython-input-8-021274b5fea6>\u001b[0m in \u001b[0;36m<module>\u001b[0;34m()\u001b[0m\n\u001b[1;32m      1\u001b[0m \u001b[0;32mif\u001b[0m \u001b[0m__name__\u001b[0m \u001b[0;34m==\u001b[0m \u001b[0;34m\"__main__\"\u001b[0m\u001b[0;34m:\u001b[0m\u001b[0;34m\u001b[0m\u001b[0m\n\u001b[0;32m----> 2\u001b[0;31m     \u001b[0mChessFuncs\u001b[0m\u001b[0;34m.\u001b[0m\u001b[0mspeed_increase\u001b[0m\u001b[0;34m(\u001b[0m\u001b[0msingle_parse\u001b[0m\u001b[0;34m(\u001b[0m\u001b[0mpgns\u001b[0m\u001b[0;34m)\u001b[0m\u001b[0;34m,\u001b[0m\u001b[0mmulti_parse\u001b[0m\u001b[0;34m(\u001b[0m\u001b[0mpgns\u001b[0m\u001b[0;34m)\u001b[0m\u001b[0;34m)\u001b[0m\u001b[0;34m\u001b[0m\u001b[0m\n\u001b[0m",
      "\u001b[0;32m<ipython-input-4-695319ded68a>\u001b[0m in \u001b[0;36msingle_parse\u001b[0;34m(pgn_file_list)\u001b[0m\n\u001b[1;32m      7\u001b[0m     \u001b[0mstart\u001b[0m \u001b[0;34m=\u001b[0m \u001b[0mtime\u001b[0m\u001b[0;34m.\u001b[0m\u001b[0mtime\u001b[0m\u001b[0;34m(\u001b[0m\u001b[0;34m)\u001b[0m\u001b[0;34m\u001b[0m\u001b[0m\n\u001b[1;32m      8\u001b[0m     \u001b[0;32mfor\u001b[0m \u001b[0mpgn_file\u001b[0m \u001b[0;32min\u001b[0m \u001b[0mpgn_file_list\u001b[0m\u001b[0;34m:\u001b[0m\u001b[0;34m\u001b[0m\u001b[0m\n\u001b[0;32m----> 9\u001b[0;31m         \u001b[0mmain\u001b[0m\u001b[0;34m(\u001b[0m\u001b[0mpgn_file\u001b[0m\u001b[0;34m)\u001b[0m\u001b[0;34m\u001b[0m\u001b[0m\n\u001b[0m\u001b[1;32m     10\u001b[0m     \u001b[0mprocesstime\u001b[0m \u001b[0;34m=\u001b[0m \u001b[0mtime\u001b[0m\u001b[0;34m.\u001b[0m\u001b[0mtime\u001b[0m\u001b[0;34m(\u001b[0m\u001b[0;34m)\u001b[0m \u001b[0;34m-\u001b[0m \u001b[0mstart\u001b[0m\u001b[0;34m\u001b[0m\u001b[0m\n\u001b[1;32m     11\u001b[0m     \u001b[0;32mreturn\u001b[0m \u001b[0mprocesstime\u001b[0m\u001b[0;34m\u001b[0m\u001b[0m\n",
      "\u001b[0;32m<ipython-input-3-363e69ae3885>\u001b[0m in \u001b[0;36mmain\u001b[0;34m(pgn_file)\u001b[0m\n\u001b[1;32m     22\u001b[0m                 \u001b[0mpgn\u001b[0m \u001b[0;34m=\u001b[0m \u001b[0;34m\"\"\u001b[0m\u001b[0;34m.\u001b[0m\u001b[0mjoin\u001b[0m\u001b[0;34m(\u001b[0m\u001b[0mpgn\u001b[0m\u001b[0;34m)\u001b[0m\u001b[0;34m\u001b[0m\u001b[0m\n\u001b[1;32m     23\u001b[0m                 \u001b[0mpgn\u001b[0m \u001b[0;34m=\u001b[0m \u001b[0mStringIO\u001b[0m\u001b[0;34m(\u001b[0m\u001b[0mpgn\u001b[0m\u001b[0;34m)\u001b[0m\u001b[0;34m\u001b[0m\u001b[0m\n\u001b[0;32m---> 24\u001b[0;31m                 \u001b[0mpgn\u001b[0m \u001b[0;34m=\u001b[0m \u001b[0mread_game\u001b[0m\u001b[0;34m(\u001b[0m\u001b[0mpgn\u001b[0m\u001b[0;34m)\u001b[0m\u001b[0;34m\u001b[0m\u001b[0m\n\u001b[0m\u001b[1;32m     25\u001b[0m                 \u001b[0mresult\u001b[0m \u001b[0;34m=\u001b[0m \u001b[0mpgn\u001b[0m\u001b[0;34m.\u001b[0m\u001b[0mheaders\u001b[0m\u001b[0;34m[\u001b[0m\u001b[0;34m\"Result\"\u001b[0m\u001b[0;34m]\u001b[0m\u001b[0;34m\u001b[0m\u001b[0m\n\u001b[1;32m     26\u001b[0m                 \u001b[0mboard\u001b[0m \u001b[0;34m=\u001b[0m \u001b[0mend_board\u001b[0m\u001b[0;34m(\u001b[0m\u001b[0mpgn\u001b[0m\u001b[0;34m)\u001b[0m\u001b[0;34m\u001b[0m\u001b[0m\n",
      "\u001b[0;32m/anaconda3/lib/python3.6/site-packages/chess/pgn.py\u001b[0m in \u001b[0;36mread_game\u001b[0;34m(handle, Visitor)\u001b[0m\n\u001b[1;32m   1049\u001b[0m                 \u001b[0;32melse\u001b[0m\u001b[0;34m:\u001b[0m\u001b[0;34m\u001b[0m\u001b[0m\n\u001b[1;32m   1050\u001b[0m                     \u001b[0mvisitor\u001b[0m\u001b[0;34m.\u001b[0m\u001b[0mvisit_move\u001b[0m\u001b[0;34m(\u001b[0m\u001b[0mboard_stack\u001b[0m\u001b[0;34m[\u001b[0m\u001b[0;34m-\u001b[0m\u001b[0;36m1\u001b[0m\u001b[0;34m]\u001b[0m\u001b[0;34m,\u001b[0m \u001b[0mmove\u001b[0m\u001b[0;34m)\u001b[0m\u001b[0;34m\u001b[0m\u001b[0m\n\u001b[0;32m-> 1051\u001b[0;31m                     \u001b[0mboard_stack\u001b[0m\u001b[0;34m[\u001b[0m\u001b[0;34m-\u001b[0m\u001b[0;36m1\u001b[0m\u001b[0;34m]\u001b[0m\u001b[0;34m.\u001b[0m\u001b[0mpush\u001b[0m\u001b[0;34m(\u001b[0m\u001b[0mmove\u001b[0m\u001b[0;34m)\u001b[0m\u001b[0;34m\u001b[0m\u001b[0m\n\u001b[0m\u001b[1;32m   1052\u001b[0m \u001b[0;34m\u001b[0m\u001b[0m\n\u001b[1;32m   1053\u001b[0m         \u001b[0;32mif\u001b[0m \u001b[0mread_next_line\u001b[0m\u001b[0;34m:\u001b[0m\u001b[0;34m\u001b[0m\u001b[0m\n",
      "\u001b[0;32m/anaconda3/lib/python3.6/site-packages/chess/__init__.py\u001b[0m in \u001b[0;36mpush\u001b[0;34m(self, move)\u001b[0m\n\u001b[1;32m   1841\u001b[0m         \u001b[0mmove\u001b[0m \u001b[0;34m=\u001b[0m \u001b[0mself\u001b[0m\u001b[0;34m.\u001b[0m\u001b[0m_to_chess960\u001b[0m\u001b[0;34m(\u001b[0m\u001b[0mmove\u001b[0m\u001b[0;34m)\u001b[0m\u001b[0;34m\u001b[0m\u001b[0m\n\u001b[1;32m   1842\u001b[0m         \u001b[0mself\u001b[0m\u001b[0;34m.\u001b[0m\u001b[0mmove_stack\u001b[0m\u001b[0;34m.\u001b[0m\u001b[0mappend\u001b[0m\u001b[0;34m(\u001b[0m\u001b[0mself\u001b[0m\u001b[0;34m.\u001b[0m\u001b[0m_from_chess960\u001b[0m\u001b[0;34m(\u001b[0m\u001b[0mself\u001b[0m\u001b[0;34m.\u001b[0m\u001b[0mchess960\u001b[0m\u001b[0;34m,\u001b[0m \u001b[0mmove\u001b[0m\u001b[0;34m.\u001b[0m\u001b[0mfrom_square\u001b[0m\u001b[0;34m,\u001b[0m \u001b[0mmove\u001b[0m\u001b[0;34m.\u001b[0m\u001b[0mto_square\u001b[0m\u001b[0;34m,\u001b[0m \u001b[0mmove\u001b[0m\u001b[0;34m.\u001b[0m\u001b[0mpromotion\u001b[0m\u001b[0;34m,\u001b[0m \u001b[0mmove\u001b[0m\u001b[0;34m.\u001b[0m\u001b[0mdrop\u001b[0m\u001b[0;34m)\u001b[0m\u001b[0;34m)\u001b[0m\u001b[0;34m\u001b[0m\u001b[0m\n\u001b[0;32m-> 1843\u001b[0;31m         \u001b[0mself\u001b[0m\u001b[0;34m.\u001b[0m\u001b[0mstack\u001b[0m\u001b[0;34m.\u001b[0m\u001b[0mappend\u001b[0m\u001b[0;34m(\u001b[0m\u001b[0m_BoardState\u001b[0m\u001b[0;34m(\u001b[0m\u001b[0mself\u001b[0m\u001b[0;34m)\u001b[0m\u001b[0;34m)\u001b[0m\u001b[0;34m\u001b[0m\u001b[0m\n\u001b[0m\u001b[1;32m   1844\u001b[0m \u001b[0;34m\u001b[0m\u001b[0m\n\u001b[1;32m   1845\u001b[0m         \u001b[0;31m# Reset en passant square.\u001b[0m\u001b[0;34m\u001b[0m\u001b[0;34m\u001b[0m\u001b[0m\n",
      "\u001b[0;32m/anaconda3/lib/python3.6/site-packages/chess/__init__.py\u001b[0m in \u001b[0;36m__init__\u001b[0;34m(self, board)\u001b[0m\n\u001b[1;32m   1250\u001b[0m \u001b[0;34m\u001b[0m\u001b[0m\n\u001b[1;32m   1251\u001b[0m     \u001b[0;32mdef\u001b[0m \u001b[0m__init__\u001b[0m\u001b[0;34m(\u001b[0m\u001b[0mself\u001b[0m\u001b[0;34m,\u001b[0m \u001b[0mboard\u001b[0m\u001b[0;34m)\u001b[0m\u001b[0;34m:\u001b[0m\u001b[0;34m\u001b[0m\u001b[0m\n\u001b[0;32m-> 1252\u001b[0;31m         \u001b[0mself\u001b[0m\u001b[0;34m.\u001b[0m\u001b[0mpawns\u001b[0m \u001b[0;34m=\u001b[0m \u001b[0mboard\u001b[0m\u001b[0;34m.\u001b[0m\u001b[0mpawns\u001b[0m\u001b[0;34m\u001b[0m\u001b[0m\n\u001b[0m\u001b[1;32m   1253\u001b[0m         \u001b[0mself\u001b[0m\u001b[0;34m.\u001b[0m\u001b[0mknights\u001b[0m \u001b[0;34m=\u001b[0m \u001b[0mboard\u001b[0m\u001b[0;34m.\u001b[0m\u001b[0mknights\u001b[0m\u001b[0;34m\u001b[0m\u001b[0m\n\u001b[1;32m   1254\u001b[0m         \u001b[0mself\u001b[0m\u001b[0;34m.\u001b[0m\u001b[0mbishops\u001b[0m \u001b[0;34m=\u001b[0m \u001b[0mboard\u001b[0m\u001b[0;34m.\u001b[0m\u001b[0mbishops\u001b[0m\u001b[0;34m\u001b[0m\u001b[0m\n",
      "\u001b[0;31mKeyboardInterrupt\u001b[0m: "
     ]
    }
   ],
   "source": [
    "if __name__ == \"__main__\":\n",
    "    ChessFuncs.speed_increase(single_parse(pgns),multi_parse(pgns))"
   ]
  },
  {
   "cell_type": "code",
   "execution_count": null,
   "metadata": {},
   "outputs": [],
   "source": []
  },
  {
   "cell_type": "code",
   "execution_count": null,
   "metadata": {},
   "outputs": [],
   "source": []
  }
 ],
 "metadata": {
  "kernelspec": {
   "display_name": "Python 3",
   "language": "python",
   "name": "python3"
  },
  "language_info": {
   "codemirror_mode": {
    "name": "ipython",
    "version": 3
   },
   "file_extension": ".py",
   "mimetype": "text/x-python",
   "name": "python",
   "nbconvert_exporter": "python",
   "pygments_lexer": "ipython3",
   "version": "3.6.5"
  }
 },
 "nbformat": 4,
 "nbformat_minor": 2
}
