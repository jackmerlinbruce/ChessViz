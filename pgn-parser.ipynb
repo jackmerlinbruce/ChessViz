{
 "cells": [
  {
   "cell_type": "code",
   "execution_count": 55,
   "metadata": {},
   "outputs": [],
   "source": [
    "import os\n",
    "import sys\n",
    "import chess.pgn as pychess\n",
    "from chess.pgn import read_game\n",
    "from chess import square_name\n",
    "from chess import SQUARE_NAMES, BB_SQUARES\n",
    "import ChessFuncs\n",
    "from ChessFuncs import end_board\n",
    "import bz2\n",
    "import time\n",
    "from io import StringIO\n",
    "from multiprocessing import Process\n",
    "import time\n",
    "from time import sleep\n",
    "import time"
   ]
  },
  {
   "cell_type": "markdown",
   "metadata": {},
   "source": [
    "# MultiParsing Chess PGN Files\n",
    "Code below parses multiple PGN files at once, for about a 1.5-3X speed increase.\n",
    "Try to parse only as many files as CPU Cores available."
   ]
  },
  {
   "cell_type": "code",
   "execution_count": null,
   "metadata": {},
   "outputs": [],
   "source": [
    "multiplier = round(409700297/121332)\n",
    "mins = 7 * multiplier\n",
    "hours = mins / 60\n",
    "days = hours / 24\n",
    "days_to_run = round(days,1)\n",
    "print(days_to_run)"
   ]
  },
  {
   "cell_type": "code",
   "execution_count": 79,
   "metadata": {},
   "outputs": [],
   "source": [
    "#Create list of PGN files\n",
    "pgns = [file for file in os.listdir() if \"test-\" in file]\n",
    "out_path = \"test-results.txt\"\n",
    "out_paths = [pgn[:-4]+\"_PARSED.txt\" for pgn in pgns]"
   ]
  },
  {
   "cell_type": "code",
   "execution_count": 95,
   "metadata": {},
   "outputs": [],
   "source": [
    "#the thing which will run simultaneously\n",
    "def main(pgn_file, out_path):\n",
    "    '''\n",
    "    Takes in one long/concatenated PGN file and spits out the end king squares to an output file.\n",
    "    '''\n",
    "    \n",
    "    def end_board(parsed_pgn_file):\n",
    "        '''Moves the py-chess board obj to the final move.'''\n",
    "        current_board = parsed_pgn_file.board()\n",
    "        for move in parsed_pgn_file.main_line():\n",
    "            current_board.push(move)    \n",
    "        return current_board\n",
    "    \n",
    "    def does_q_checkmate_k(board, winner, loser):\n",
    "        #obv, only accounts for when a queen is DIRECTLY attacking a checkmated king,\n",
    "        #not accounting for the lines of attack which PREVENT the king from moving\n",
    "        try:\n",
    "            #uses .attackers() to find which squares are attacking out checkmated king?\n",
    "            board_string = str(board.attackers(winner, board.king(loser))).replace(\" \",\"\")[::-1] #removes whitespace and reverses str\n",
    "            board_string = board_string.split(\"\\n\") #split in ranks (horizontally)\n",
    "            board_string = [b[::-1] for b in board_string] #reverse each rank because h8 is the final sq\n",
    "            board_string = \"\".join(board_string) #rejoin list\n",
    "            board_string = list(enumerate(board_string)) #enumerate list as this is the way squares are counted (but in reverse)\n",
    "\n",
    "            #is a queen on one of those squares?\n",
    "            queen_num = board.queen(winner)\n",
    "            does_q_checkmate_k = board_string[queen_num][1] is not '.' #is there a piece at the index which the queen is in\n",
    "            return does_q_checkmate_k\n",
    "        except:\n",
    "            return False\n",
    "    \n",
    "    with open(pgn_file) as bigfile:\n",
    "        pgn = []\n",
    "        then = time.time()\n",
    "        for line in bigfile:\n",
    "            \n",
    "            #Every 20 minutes, sleep for 2 minutes\n",
    "            elapsed = time.time() - then\n",
    "            if elapsed > 1200:\n",
    "                print(\"Sleeping for 2 minutes\")\n",
    "                sleep(120)\n",
    "                then = time.time()\n",
    "        \n",
    "            if line.startswith(\"[Event\"):\n",
    "                pgn.append(line)\n",
    "            elif line.startswith(\"1. \"):\n",
    "                pgn.append(line)\n",
    "                pgn = \"\".join(pgn)\n",
    "                pgn = StringIO(pgn)\n",
    "                pgn = read_game(pgn)\n",
    "                result = pgn.headers[\"Result\"]\n",
    "                board = end_board(pgn)\n",
    "                 \n",
    "                if result in [\"1-0\",\"0-1\"] and board.is_checkmate():\n",
    "                    if result == \"1-0\":\n",
    "                        winner = 1 # WHITE wins\n",
    "                        loser = 0\n",
    "                        king_num = board.king(loser) # BLACK loses\n",
    "                        queen_num = 99\n",
    "                    if result == \"0-1\":\n",
    "                        winner = 0 # BLACK wins\n",
    "                        loser = 1\n",
    "                        king_num = board.king(loser) # WHITE loses\n",
    "                        queen_num = 99\n",
    "                    if does_q_checkmate_k(board,winner,loser):\n",
    "                        queen_num = board.queen(winner)\n",
    "                    with open(out_path, \"a\") as results:\n",
    "                        results.write(\"%i,%i,%i\\n\" % (winner,king_num,queen_num))     \n",
    "                else:\n",
    "                    winner = 2 # DRAW\n",
    "                    with open(out_path, \"a\") as results:\n",
    "                        results.write(\"%i,%i-%i,\\n\" % (winner,board.king(1),board.king(0)))\n",
    "                        \n",
    "                pgn = []\n",
    "                \n",
    "            else:\n",
    "                pgn.append(line)"
   ]
  },
  {
   "cell_type": "code",
   "execution_count": 96,
   "metadata": {},
   "outputs": [],
   "source": [
    "def single_parse(pgn_file_list, out_path):\n",
    "    '''\n",
    "    Takes in a list of long/concatenated pgn files:\n",
    "    Read one pgn file at a time. \n",
    "    Made to show the speed difference between multiprocessing and singleprocessing.\n",
    "    '''\n",
    "    start = time.time()\n",
    "    for pgn_file in pgn_file_list:\n",
    "        main(pgn_file,out_path)\n",
    "    processtime = time.time() - start\n",
    "    print(\"single\",processtime)\n",
    "    return processtime"
   ]
  },
  {
   "cell_type": "code",
   "execution_count": 97,
   "metadata": {},
   "outputs": [],
   "source": [
    "def multi_parse(pgn_file_list, out_path):\n",
    "    #TO DO:\n",
    "        #stagger multiprocess by number of cores\n",
    "        #e.g. 8 files with 2 cores runs 4 times\n",
    "        #e.g. 8 files with 4 cores runs 2 times\n",
    "    '''\n",
    "    Takes in a list of long/concatenated pgn files.\n",
    "    Passes each file into a multiprocessing unit for the main_parse() function.\n",
    "    Read multiples pgn files at once and write to same output file.\n",
    "    \n",
    "    Basically a for-looped version of this:    \n",
    "        def multi():\n",
    "            start = time.time()\n",
    "            p1 = Process(target=main, args=(pgn1,))\n",
    "            p2 = Process(target=main, args=(pgn2,))\n",
    "            p3 = Process(target=main, args=(pgn3,))\n",
    "            p4 = Process(target=main, args=(pgn4,))\n",
    "            p1.start()\n",
    "            p2.start()\n",
    "            p3.start()\n",
    "            p4.start()\n",
    "            p1.join()\n",
    "            p2.join()\n",
    "            p3.join()\n",
    "            p4.join()\n",
    "            processtime = time.time() - start\n",
    "            return processtime\n",
    "    \n",
    "    '''\n",
    "    start = time.time()\n",
    "    \n",
    "    process_list = []\n",
    "    for i,pgn_file in enumerate(pgn_file_list):\n",
    "        process = Process(target=main, args=(pgn_file,out_paths[i]))\n",
    "        process_list.append(process)\n",
    "    for process in process_list:\n",
    "        process.start()\n",
    "    for p in process_list:\n",
    "        process.join()\n",
    "\n",
    "    processtime = time.time() - start\n",
    "    print(\"MultiParser took %i seconds to run\" % round(processtime,2))\n",
    "    return processtime\n"
   ]
  },
  {
   "cell_type": "code",
   "execution_count": 98,
   "metadata": {},
   "outputs": [
    {
     "name": "stdout",
     "output_type": "stream",
     "text": [
      "MultiParser took 5 seconds to run\n",
      "CPU times: user 7.73 ms, sys: 14.1 ms, total: 21.9 ms\n",
      "Wall time: 5.04 s\n"
     ]
    }
   ],
   "source": [
    "%%time\n",
    "if __name__ == \"__main__\":\n",
    "    multi_parse(pgns, out_path)"
   ]
  },
  {
   "cell_type": "code",
   "execution_count": null,
   "metadata": {},
   "outputs": [],
   "source": []
  }
 ],
 "metadata": {
  "kernelspec": {
   "display_name": "Python 3",
   "language": "python",
   "name": "python3"
  },
  "language_info": {
   "codemirror_mode": {
    "name": "ipython",
    "version": 3
   },
   "file_extension": ".py",
   "mimetype": "text/x-python",
   "name": "python",
   "nbconvert_exporter": "python",
   "pygments_lexer": "ipython3",
   "version": "3.6.5"
  }
 },
 "nbformat": 4,
 "nbformat_minor": 2
}
