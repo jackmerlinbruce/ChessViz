{
 "cells": [
  {
   "cell_type": "markdown",
   "metadata": {},
   "source": [
    "# Pandas create pivot"
   ]
  },
  {
   "cell_type": "code",
   "execution_count": 1,
   "metadata": {},
   "outputs": [],
   "source": [
    "import glob\n",
    "from chess import SQUARE_NAMES, square_name\n",
    "import os\n",
    "import sys\n",
    "from multiprocessing import Process\n",
    "\n",
    "import numpy as np\n",
    "import pandas as pd\n",
    "import seaborn as sns\n",
    "%matplotlib inline"
   ]
  },
  {
   "cell_type": "code",
   "execution_count": 3,
   "metadata": {},
   "outputs": [],
   "source": [
    "paths = glob.glob('*PARSED*')\n",
    "pgns = [file for file in os.listdir() if \"PARSED\" in file]\n",
    "parsedpath = paths[0]\n",
    "# paths"
   ]
  },
  {
   "cell_type": "code",
   "execution_count": 4,
   "metadata": {},
   "outputs": [
    {
     "data": {
      "text/html": [
       "<div>\n",
       "<style scoped>\n",
       "    .dataframe tbody tr th:only-of-type {\n",
       "        vertical-align: middle;\n",
       "    }\n",
       "\n",
       "    .dataframe tbody tr th {\n",
       "        vertical-align: top;\n",
       "    }\n",
       "\n",
       "    .dataframe thead th {\n",
       "        text-align: right;\n",
       "    }\n",
       "</style>\n",
       "<table border=\"1\" class=\"dataframe\">\n",
       "  <thead>\n",
       "    <tr style=\"text-align: right;\">\n",
       "      <th></th>\n",
       "      <th>king_square_name</th>\n",
       "      <th>frequency</th>\n",
       "    </tr>\n",
       "    <tr>\n",
       "      <th>king_square_name</th>\n",
       "      <th></th>\n",
       "      <th></th>\n",
       "    </tr>\n",
       "  </thead>\n",
       "  <tbody>\n",
       "    <tr>\n",
       "      <th>a1</th>\n",
       "      <td>a1</td>\n",
       "      <td>0</td>\n",
       "    </tr>\n",
       "    <tr>\n",
       "      <th>b1</th>\n",
       "      <td>b1</td>\n",
       "      <td>0</td>\n",
       "    </tr>\n",
       "    <tr>\n",
       "      <th>c1</th>\n",
       "      <td>c1</td>\n",
       "      <td>0</td>\n",
       "    </tr>\n",
       "    <tr>\n",
       "      <th>d1</th>\n",
       "      <td>d1</td>\n",
       "      <td>0</td>\n",
       "    </tr>\n",
       "    <tr>\n",
       "      <th>e1</th>\n",
       "      <td>e1</td>\n",
       "      <td>0</td>\n",
       "    </tr>\n",
       "  </tbody>\n",
       "</table>\n",
       "</div>"
      ],
      "text/plain": [
       "                 king_square_name  frequency\n",
       "king_square_name                            \n",
       "a1                             a1          0\n",
       "b1                             b1          0\n",
       "c1                             c1          0\n",
       "d1                             d1          0\n",
       "e1                             e1          0"
      ]
     },
     "execution_count": 4,
     "metadata": {},
     "output_type": "execute_result"
    }
   ],
   "source": [
    "#create a DataFrame with the index set to chess square names, and an empty count column\n",
    "check_df = pd.DataFrame(SQUARE_NAMES,columns=['king_square_name'])\n",
    "check_df.index = check_df['king_square_name']\n",
    "check_df['frequency'] = 0\n",
    "\n",
    "stale_df = pd.DataFrame(SQUARE_NAMES,columns=['king_square_name'])\n",
    "stale_df.index = stale_df['king_square_name']\n",
    "stale_df['frequency'] = 0\n",
    "\n",
    "check_df.head()"
   ]
  },
  {
   "cell_type": "code",
   "execution_count": null,
   "metadata": {},
   "outputs": [],
   "source": [
    "%%time\n",
    "pgns = 0\n",
    "games = 0\n",
    "cm = 0\n",
    "\n",
    "for path in paths:\n",
    "    pgns += 1    \n",
    "    with open(path,'r') as file: \n",
    "\n",
    "        # Populate the dataframe\n",
    "        for line in file:\n",
    "            games += 1\n",
    "            result,king,queen = line.split(',')\n",
    "\n",
    "            if result == '1' or result == '0': # if checkmate\n",
    "                cm += 1\n",
    "                king_square = square_name(int(king))                \n",
    "                check_df.at[king_square,'frequency'] += 1 \n",
    "\n",
    "#             else: # if stalemate\n",
    "# #                 pass # this takes 6-10x longer\n",
    "#                 king_square_white,king_square_black = [square_name(int(king)) for king in king.split('-')]\n",
    "#                 stale_df.at[king_square_white,'frequency'] += 1 \n",
    "#                 stale_df.at[king_square_black,'frequency'] += 1 \n",
    "\n",
    "print(f\"{pgns} pgn files\")\n",
    "print(f\"{round(games/1000000,2)} million games\")\n",
    "print(f\"{round(cm/1000)} thousand checkmates\\n\")    "
   ]
  },
  {
   "cell_type": "code",
   "execution_count": 5,
   "metadata": {},
   "outputs": [
    {
     "name": "stdout",
     "output_type": "stream",
     "text": [
      "CPU times: user 7 µs, sys: 0 ns, total: 7 µs\n",
      "Wall time: 12.9 µs\n"
     ]
    }
   ],
   "source": [
    "%%time\n",
    "def main_parse(parsed_pgn):\n",
    "    '''\n",
    "    1) Converts the parsed_pgn files into a 64-len pandas data frame\n",
    "    2) Writes this data frame to the disk as a .csv\n",
    "    '''\n",
    "    with open(parsed_pgn,'r') as file:\n",
    "        for line in file:\n",
    "            result,king,queen = line.split(',')\n",
    "            if result == '1' or result == '0': # if checkmate\n",
    "                king_square = square_name(int(king))\n",
    "                check_df.at[king_square,'frequency'] += 1\n",
    "            else: # if stalemate\n",
    "                king_square_white,king_square_black = [square_name(int(king)) for king in king.split('-')]\n",
    "                stale_df.at[king_square_white,'frequency'] += 1 \n",
    "                stale_df.at[king_square_black,'frequency'] += 1 \n",
    "                \n",
    "    check_df.to_csv(f\"CHECK_{parsed_pgn}.csv\")\n",
    "    stale_df.to_csv(f\"STALE_{parsed_pgn}.csv\")\n",
    "    \n",
    "def multiparser(parsed_pgn_list):\n",
    "    # !!! NEED to do the processes in 8-len chunks\n",
    "        #Use np.reshape(8,8) to do so\n",
    "        #for mini_list inside big_list: ...\n",
    "    process_list = []\n",
    "    for parsed_pgn in parsed_pgn_list:\n",
    "        process = Process(target=main_parse, args=(parsed_pgn,))\n",
    "        process_list.append(process)\n",
    "    for process in process_list:\n",
    "        process.start()\n",
    "    for p in process_list:\n",
    "        process.join()\n",
    "            \n",
    "# multiparser(pgns) "
   ]
  },
  {
   "cell_type": "code",
   "execution_count": 28,
   "metadata": {},
   "outputs": [
    {
     "name": "stdout",
     "output_type": "stream",
     "text": [
      "Found 1 list_of_lists\n",
      "Found 2 list_of_lists\n",
      "Found 3 list_of_lists\n",
      "Found 4 list_of_lists\n",
      "Found 5 list_of_lists\n",
      "Found 6 list_of_lists\n",
      "Found 7 list_of_lists\n",
      "Found 8 list_of_lists\n",
      "Found 9 list_of_lists\n",
      "CPU times: user 159 ms, sys: 290 ms, total: 448 ms\n",
      "Wall time: 51min 3s\n"
     ]
    }
   ],
   "source": [
    "%%time\n",
    "xpaths = np.array(paths)\n",
    "xpaths = xpaths.reshape(9,8)\n",
    "\n",
    "def multiparser2(list_of_lists):\n",
    "    '''\n",
    "    This multiparser takes in a list of lists (created via np.reshape())\n",
    "    and passes them into the parser in chunks == to the number of available cores\n",
    "    '''\n",
    "    count = 0\n",
    "    for lst in list_of_lists:\n",
    "        count += 1\n",
    "        print(f\"Found {count} list_of_lists\")\n",
    "        process_list = []\n",
    "        for parsed_pgn in lst:\n",
    "            process = Process(target=main_parse, args=(parsed_pgn,))\n",
    "            process_list.append(process)\n",
    "        for process in process_list:\n",
    "            process.start()\n",
    "        for p in process_list:\n",
    "            process.join()\n",
    "\n",
    "multiparser2(xpaths)"
   ]
  },
  {
   "cell_type": "code",
   "execution_count": 6,
   "metadata": {},
   "outputs": [
    {
     "name": "stdout",
     "output_type": "stream",
     "text": [
      "CPU times: user 400 ms, sys: 67.6 ms, total: 467 ms\n",
      "Wall time: 778 ms\n"
     ]
    }
   ],
   "source": [
    "%%time\n",
    "# Merge the dataframes\n",
    "checkmates = glob.glob(\"CHECK*\")\n",
    "stalesmates = glob.glob(\"STALE*\")\n",
    "\n",
    "def reshape_dataframes(dataframes):\n",
    "    '''\n",
    "    1) Takes a list of CHECK_PARSED pgns files\n",
    "    2) Merges and sums the chess square 'frequency' column\n",
    "    3) Reshapes this column into an 8x8 chess board\n",
    "    '''\n",
    "    freqs = []\n",
    "    for df in dataframes:\n",
    "        df = open(df)\n",
    "        df = pd.read_csv(df)\n",
    "        df = df['frequency']\n",
    "        freqs.append(df)\n",
    "\n",
    "    freqs = sum(freqs)\n",
    "    freqs = np.array(freqs)\n",
    "    freqs = freqs.reshape(8,8)\n",
    "    \n",
    "    return freqs\n",
    "\n",
    "reshaped_checkmates = reshape_dataframes(checkmates)\n",
    "reshaped_stalemates = reshape_dataframes(stalesmates)"
   ]
  },
  {
   "cell_type": "markdown",
   "metadata": {},
   "source": [
    "# Create Heatmaps"
   ]
  },
  {
   "cell_type": "code",
   "execution_count": 9,
   "metadata": {},
   "outputs": [
    {
     "name": "stdout",
     "output_type": "stream",
     "text": [
      "The most common square for a king to be checkmated on, from 106.9 million games\n",
      "CPU times: user 92.4 ms, sys: 5.99 ms, total: 98.4 ms\n",
      "Wall time: 100 ms\n"
     ]
    },
    {
     "data": {
      "image/png": "[encoded data removed]",
      "text/plain": [
       "<Figure size 432x288 with 2 Axes>"
      ]
     },
     "metadata": {},
     "output_type": "display_data"
    }
   ],
   "source": [
    "%%time\n",
    "num_cm = round(sum(sum(reshaped_checkmates))/1000000,1)\n",
    "print( f\"The most common square for a king to be checkmated on, from {num_cm} million games\" )\n",
    "heatmap = sns.heatmap(reshaped_checkmates, square=True)\n",
    "heatmap = heatmap.get_figure()\n",
    "heatmap.savefig(\"heatmap-check\")"
   ]
  },
  {
   "cell_type": "code",
   "execution_count": 10,
   "metadata": {},
   "outputs": [
    {
     "name": "stdout",
     "output_type": "stream",
     "text": [
      "The most common square for a king to end up on in a draw, from 301.3 million games\n",
      "CPU times: user 99.9 ms, sys: 7.85 ms, total: 108 ms\n",
      "Wall time: 116 ms\n"
     ]
    },
    {
     "data": {
      "image/png": "[encoded data removed]",
      "text/plain": [
       "<Figure size 432x288 with 2 Axes>"
      ]
     },
     "metadata": {},
     "output_type": "display_data"
    }
   ],
   "source": [
    "%%time\n",
    "num_sm = round(sum(sum(reshaped_stalemates))/1000000,1)\n",
    "print( f\"The most common square for a king to end up on in a draw, from {num_sm/2} million games\" )\n",
    "heatmap = sns.heatmap(reshaped_stalemates, square=True)\n",
    "heatmap = heatmap.get_figure()\n",
    "heatmap.savefig(\"heatmap-stale\")"
   ]
  },
  {
   "cell_type": "code",
   "execution_count": 34,
   "metadata": {},
   "outputs": [
    {
     "data": {
      "text/plain": [
       "224"
      ]
     },
     "execution_count": 34,
     "metadata": {},
     "output_type": "execute_result"
    }
   ],
   "source": [
    "#Started out with 10 billion lines in text files, representing 450 million games of chess (400 GB)\n",
    "#Trimmed this down one line per game, i.e., 450 million lines (1.5 GB)\n",
    "#Pivoted these 400m lines to fewer than 1 MB (just 224 bytes).\n",
    "#And that's how you go from 400GB down to 224 bytes, half a billion games down to 4 heatmaps.\n",
    "sys.getsizeof(reshaped_checkmates) + sys.getsizeof(reshaped_stalemates)"
   ]
  }
 ],
 "metadata": {
  "kernelspec": {
   "display_name": "Python 3",
   "language": "python",
   "name": "python3"
  },
  "language_info": {
   "codemirror_mode": {
    "name": "ipython",
    "version": 3
   },
   "file_extension": ".py",
   "mimetype": "text/x-python",
   "name": "python",
   "nbconvert_exporter": "python",
   "pygments_lexer": "ipython3",
   "version": "3.6.4"
  }
 },
 "nbformat": 4,
 "nbformat_minor": 2
}
