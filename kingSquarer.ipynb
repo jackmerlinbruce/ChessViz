{
 "cells": [
  {
   "cell_type": "markdown",
   "metadata": {},
   "source": [
    "# Pandas create pivot"
   ]
  },
  {
   "cell_type": "code",
   "execution_count": 23,
   "metadata": {},
   "outputs": [],
   "source": [
    "import glob\n",
    "from chess import SQUARE_NAMES, square_name\n",
    "import os\n",
    "import sys\n",
    "from multiprocessing import Process\n",
    "\n",
    "import numpy as np\n",
    "import pandas as pd\n",
    "import seaborn as sns\n",
    "%matplotlib inline"
   ]
  },
  {
   "cell_type": "code",
   "execution_count": 24,
   "metadata": {},
   "outputs": [
    {
     "ename": "IndexError",
     "evalue": "list index out of range",
     "output_type": "error",
     "traceback": [
      "\u001b[0;31m---------------------------------------------------------------------------\u001b[0m",
      "\u001b[0;31mIndexError\u001b[0m                                Traceback (most recent call last)",
      "\u001b[0;32m<ipython-input-24-1aabc3862e79>\u001b[0m in \u001b[0;36m<module>\u001b[0;34m()\u001b[0m\n\u001b[1;32m      1\u001b[0m \u001b[0mpaths\u001b[0m \u001b[0;34m=\u001b[0m \u001b[0mglob\u001b[0m\u001b[0;34m.\u001b[0m\u001b[0mglob\u001b[0m\u001b[0;34m(\u001b[0m\u001b[0;34m'*PARSED*'\u001b[0m\u001b[0;34m)\u001b[0m\u001b[0;34m\u001b[0m\u001b[0m\n\u001b[1;32m      2\u001b[0m \u001b[0mpgns\u001b[0m \u001b[0;34m=\u001b[0m \u001b[0;34m[\u001b[0m\u001b[0mfile\u001b[0m \u001b[0;32mfor\u001b[0m \u001b[0mfile\u001b[0m \u001b[0;32min\u001b[0m \u001b[0mos\u001b[0m\u001b[0;34m.\u001b[0m\u001b[0mlistdir\u001b[0m\u001b[0;34m(\u001b[0m\u001b[0;34m)\u001b[0m \u001b[0;32mif\u001b[0m \u001b[0;34m\"PARSED\"\u001b[0m \u001b[0;32min\u001b[0m \u001b[0mfile\u001b[0m\u001b[0;34m]\u001b[0m\u001b[0;34m\u001b[0m\u001b[0m\n\u001b[0;32m----> 3\u001b[0;31m \u001b[0mparsedpath\u001b[0m \u001b[0;34m=\u001b[0m \u001b[0mpaths\u001b[0m\u001b[0;34m[\u001b[0m\u001b[0;36m0\u001b[0m\u001b[0;34m]\u001b[0m\u001b[0;34m\u001b[0m\u001b[0m\n\u001b[0m\u001b[1;32m      4\u001b[0m \u001b[0;31m# paths\u001b[0m\u001b[0;34m\u001b[0m\u001b[0;34m\u001b[0m\u001b[0m\n",
      "\u001b[0;31mIndexError\u001b[0m: list index out of range"
     ]
    }
   ],
   "source": [
    "paths = glob.glob('*PARSED*')\n",
    "pgns = [file for file in os.listdir() if \"PARSED\" in file]\n",
    "parsedpath = paths[0]\n",
    "# paths"
   ]
  },
  {
   "cell_type": "code",
   "execution_count": 196,
   "metadata": {},
   "outputs": [
    {
     "data": {
      "text/html": [
       "<div>\n",
       "<style scoped>\n",
       "    .dataframe tbody tr th:only-of-type {\n",
       "        vertical-align: middle;\n",
       "    }\n",
       "\n",
       "    .dataframe tbody tr th {\n",
       "        vertical-align: top;\n",
       "    }\n",
       "\n",
       "    .dataframe thead th {\n",
       "        text-align: right;\n",
       "    }\n",
       "</style>\n",
       "<table border=\"1\" class=\"dataframe\">\n",
       "  <thead>\n",
       "    <tr style=\"text-align: right;\">\n",
       "      <th></th>\n",
       "      <th>king_square_name</th>\n",
       "      <th>frequency</th>\n",
       "    </tr>\n",
       "    <tr>\n",
       "      <th>king_square_name</th>\n",
       "      <th></th>\n",
       "      <th></th>\n",
       "    </tr>\n",
       "  </thead>\n",
       "  <tbody>\n",
       "    <tr>\n",
       "      <th>a1</th>\n",
       "      <td>a1</td>\n",
       "      <td>0</td>\n",
       "    </tr>\n",
       "    <tr>\n",
       "      <th>b1</th>\n",
       "      <td>b1</td>\n",
       "      <td>0</td>\n",
       "    </tr>\n",
       "    <tr>\n",
       "      <th>c1</th>\n",
       "      <td>c1</td>\n",
       "      <td>0</td>\n",
       "    </tr>\n",
       "    <tr>\n",
       "      <th>d1</th>\n",
       "      <td>d1</td>\n",
       "      <td>0</td>\n",
       "    </tr>\n",
       "    <tr>\n",
       "      <th>e1</th>\n",
       "      <td>e1</td>\n",
       "      <td>0</td>\n",
       "    </tr>\n",
       "  </tbody>\n",
       "</table>\n",
       "</div>"
      ],
      "text/plain": [
       "                 king_square_name  frequency\n",
       "king_square_name                            \n",
       "a1                             a1          0\n",
       "b1                             b1          0\n",
       "c1                             c1          0\n",
       "d1                             d1          0\n",
       "e1                             e1          0"
      ]
     },
     "execution_count": 196,
     "metadata": {},
     "output_type": "execute_result"
    }
   ],
   "source": [
    "#create a DataFrame with the index set to chess square names, and an empty count column\n",
    "check_df = pd.DataFrame(SQUARE_NAMES,columns=['king_square_name'])\n",
    "check_df.index = check_df['king_square_name']\n",
    "check_df['frequency'] = 0\n",
    "\n",
    "stale_df = pd.DataFrame(SQUARE_NAMES,columns=['king_square_name'])\n",
    "stale_df.index = stale_df['king_square_name']\n",
    "stale_df['frequency'] = 0\n",
    "\n",
    "check_df.head()"
   ]
  },
  {
   "cell_type": "code",
   "execution_count": null,
   "metadata": {},
   "outputs": [],
   "source": [
    "%%time\n",
    "pgns = 0\n",
    "games = 0\n",
    "cm = 0\n",
    "\n",
    "for path in paths:\n",
    "    pgns += 1    \n",
    "    with open(path,'r') as file: \n",
    "\n",
    "        # Populate the dataframe\n",
    "        for line in file:\n",
    "            games += 1\n",
    "            result,king,queen = line.split(',')\n",
    "\n",
    "            if result == '1' or result == '0': # if checkmate\n",
    "                cm += 1\n",
    "                king_square = square_name(int(king))                \n",
    "                check_df.at[king_square,'frequency'] += 1 \n",
    "\n",
    "#             else: # if stalemate\n",
    "# #                 pass # this takes 6-10x longer\n",
    "#                 king_square_white,king_square_black = [square_name(int(king)) for king in king.split('-')]\n",
    "#                 stale_df.at[king_square_white,'frequency'] += 1 \n",
    "#                 stale_df.at[king_square_black,'frequency'] += 1 \n",
    "\n",
    "print(f\"{pgns} pgn files\")\n",
    "print(f\"{round(games/1000000,2)} million games\")\n",
    "print(f\"{round(cm/1000)} thousand checkmates\\n\")    "
   ]
  },
  {
   "cell_type": "code",
   "execution_count": 197,
   "metadata": {},
   "outputs": [
    {
     "name": "stdout",
     "output_type": "stream",
     "text": [
      "found 104448 stalemate games\n",
      "CPU times: user 2.53 s, sys: 25.5 ms, total: 2.56 s\n",
      "Wall time: 2.59 s\n"
     ]
    }
   ],
   "source": [
    "%%time\n",
    "def main_parse(parsed_pgn):\n",
    "    '''\n",
    "    1) Converts the parsed_pgn files into a 64-len pandas data frame\n",
    "    2) Writes this data frame to the disk as a .csv\n",
    "    '''\n",
    "    with open(parsed_pgn,'r') as file:\n",
    "        for line in file:\n",
    "            is_checkmate,queen_square = line.replace('\\n','').split(',')\n",
    "            if is_checkmate == '1':\n",
    "                check_df.at[queen_square,'frequency'] += 1\n",
    "            else: # if stalemate\n",
    "                queen_square_white,queen_square_black = queen_square.split('-')\n",
    "                stale_df.at[queen_square_white,'frequency'] += 1 \n",
    "                stale_df.at[queen_square_black,'frequency'] += 1 \n",
    "                \n",
    "    check_df.to_csv(f\"CHECK_{parsed_pgn}.csv\")\n",
    "    stale_df.to_csv(f\"STALE_{parsed_pgn}.csv\")\n",
    "    \n",
    "def main_parse2(parsed_pgn):\n",
    "    '''\n",
    "    THIS HANDLES MULTIPLE PIECES\n",
    "    1) Converts the parsed_pgn files into a 64-len pandas data frame\n",
    "    2) Writes this data frame to the disk as a .csv\n",
    "    '''\n",
    "    count = 0\n",
    "    with open(parsed_pgn,'r') as file:\n",
    "        for line in file:\n",
    "            try:\n",
    "                is_checkmate,rook,bishop,knight,pawn = line.replace('\\n','').split(',')\n",
    "\n",
    "                if (is_checkmate == '1') and (len(bishop) == 2):\n",
    "                    check_df.at[bishop,'frequency'] += 1\n",
    "\n",
    "                if (is_checkmate == '0') and (bishop != 'None'):\n",
    "                    count += 1\n",
    "                    white,black = bishop.split('-')\n",
    "                    stale_df.at[white,'frequency'] += 1\n",
    "                    stale_df.at[black,'frequency'] += 1\n",
    "            except:\n",
    "                pass\n",
    "                    \n",
    "    check_df.to_csv(f\"CHECK_pawn_{parsed_pgn}.csv\")\n",
    "    stale_df.to_csv(f\"STALE_pawn_{parsed_pgn}.csv\")\n",
    "    print(f'found {count} stalemate games')\n",
    "    \n",
    "def multiparser(parsed_pgn_list):\n",
    "    process_list = []\n",
    "    for parsed_pgn in parsed_pgn_list:\n",
    "        process = Process(target=main_parse, args=(parsed_pgn,))\n",
    "        process_list.append(process)\n",
    "    for process in process_list:\n",
    "        process.start()\n",
    "    for p in process_list:\n",
    "        process.join()\n",
    "            \n",
    "main_parse2('results-all-pieces.txt')"
   ]
  },
  {
   "cell_type": "code",
   "execution_count": 74,
   "metadata": {},
   "outputs": [
    {
     "ename": "ValueError",
     "evalue": "cannot reshape array of size 0 into shape (9,8)",
     "output_type": "error",
     "traceback": [
      "\u001b[0;31m---------------------------------------------------------------------------\u001b[0m",
      "\u001b[0;31mValueError\u001b[0m                                Traceback (most recent call last)",
      "\u001b[0;32m<timed exec>\u001b[0m in \u001b[0;36m<module>\u001b[0;34m()\u001b[0m\n",
      "\u001b[0;31mValueError\u001b[0m: cannot reshape array of size 0 into shape (9,8)"
     ]
    }
   ],
   "source": [
    "%%time\n",
    "xpaths = np.array(paths)\n",
    "xpaths = xpaths.reshape(9,8)\n",
    "\n",
    "def multiparser2(list_of_lists):\n",
    "    '''\n",
    "    This multiparser takes in a list of lists (created via np.reshape())\n",
    "    and passes them into the parser in chunks == to the number of available cores\n",
    "    '''\n",
    "    count = 0\n",
    "    for lst in list_of_lists:\n",
    "        count += 1\n",
    "        print(f\"Found {count} list_of_lists\")\n",
    "        process_list = []\n",
    "        for parsed_pgn in lst:\n",
    "            process = Process(target=main_parse, args=(parsed_pgn,))\n",
    "            process_list.append(process)\n",
    "        for process in process_list:\n",
    "            process.start()\n",
    "        for p in process_list:\n",
    "            process.join()\n",
    "\n",
    "multiparser2(xpaths)"
   ]
  },
  {
   "cell_type": "code",
   "execution_count": 192,
   "metadata": {},
   "outputs": [
    {
     "name": "stdout",
     "output_type": "stream",
     "text": [
      "CPU times: user 5.5 ms, sys: 1.56 ms, total: 7.06 ms\n",
      "Wall time: 9.56 ms\n"
     ]
    }
   ],
   "source": [
    "%%time\n",
    "# Merge the dataframes\n",
    "checkmates = glob.glob(\"CHECK_pawn*\")\n",
    "stalesmates = glob.glob(\"STALE_pawn*\")\n",
    "\n",
    "def reshape_dataframes(dataframes):\n",
    "    '''\n",
    "    1) Takes a list of CHECK_PARSED pgns files\n",
    "    2) Merges and sums the chess square 'frequency' column\n",
    "    3) Reshapes this column into an 8x8 chess board\n",
    "    '''\n",
    "    freqs = []\n",
    "    for df in dataframes:\n",
    "        df = open(df)\n",
    "        df = pd.read_csv(df)\n",
    "        df = df['frequency']\n",
    "        freqs.append(df)\n",
    "\n",
    "    freqs = sum(freqs)\n",
    "    freqs = np.array(freqs)\n",
    "    freqs = freqs.reshape(8,8)\n",
    "    \n",
    "    return freqs\n",
    "\n",
    "reshaped_checkmates = reshape_dataframes(checkmates)\n",
    "reshaped_stalemates = reshape_dataframes(stalesmates)"
   ]
  },
  {
   "cell_type": "code",
   "execution_count": 193,
   "metadata": {},
   "outputs": [
    {
     "name": "stdout",
     "output_type": "stream",
     "text": [
      "['CHECK_pawn_results-all-pieces.txt.csv']\n"
     ]
    },
    {
     "data": {
      "text/plain": [
       "array([[  258,   580, 17564,   604,   436, 26808,   130,   174],\n",
       "       [ 1448,  7062,  2762,  6422,  9642,  1160,  9522,   738],\n",
       "       [ 1928,  5532,  2676, 11892, 11784,  3618,  3384,  1624],\n",
       "       [ 1154,  1350, 14184,  2392,  2238,  8342,  1466,  1680],\n",
       "       [  814,  4798,  1610,  2878,  2194,  1404,  7828,  1380],\n",
       "       [ 1096,   836,  1804,  1622,  1782,  2112,  1316,  3304],\n",
       "       [  550,   756,  1060,   600,   866,  1534,   970,   796],\n",
       "       [  884,   336,   202,   998,   272,   408,   414,   918]])"
      ]
     },
     "execution_count": 193,
     "metadata": {},
     "output_type": "execute_result"
    }
   ],
   "source": [
    "print(checkmates)\n",
    "# reshaped_checkmates[0] = [0] * 8\n",
    "# reshaped_checkmates[7] = [0] * 8\n",
    "# reshaped_checkmates[0][3] = reshaped_checkmates[0][3]/2\n",
    "reshaped_stalemates"
   ]
  },
  {
   "cell_type": "markdown",
   "metadata": {},
   "source": [
    "# Create Heatmaps"
   ]
  },
  {
   "cell_type": "code",
   "execution_count": 194,
   "metadata": {},
   "outputs": [
    {
     "name": "stdout",
     "output_type": "stream",
     "text": [
      "The most common square for a king to be checkmated on, from 5.9 thousand games\n",
      "CPU times: user 92.2 ms, sys: 7.44 ms, total: 99.6 ms\n",
      "Wall time: 102 ms\n"
     ]
    },
    {
     "data": {
      "image/png": "[encoded data removed]",
      "text/plain": [
       "<Figure size 432x288 with 2 Axes>"
      ]
     },
     "metadata": {},
     "output_type": "display_data"
    }
   ],
   "source": [
    "%%time\n",
    "num_cm = round(sum(sum(reshaped_checkmates))/1000,1)\n",
    "print( f\"The most common square for a king to be checkmated on, from {num_cm} thousand games\" )\n",
    "heatmap = sns.heatmap(reshaped_checkmates, square=True)\n",
    "heatmap = heatmap.get_figure()\n",
    "heatmap.savefig(\"heatmap-check-pawn\")"
   ]
  },
  {
   "cell_type": "code",
   "execution_count": 195,
   "metadata": {},
   "outputs": [
    {
     "name": "stdout",
     "output_type": "stream",
     "text": [
      "The most common square for a king to end up on in a draw, from 104.45 thousand games\n",
      "CPU times: user 93.4 ms, sys: 8.33 ms, total: 102 ms\n",
      "Wall time: 102 ms\n"
     ]
    },
    {
     "data": {
      "image/png": "[encoded data removed]",
      "text/plain": [
       "<Figure size 432x288 with 2 Axes>"
      ]
     },
     "metadata": {},
     "output_type": "display_data"
    }
   ],
   "source": [
    "%%time\n",
    "num_sm = round(sum(sum(reshaped_stalemates))/1000,1)\n",
    "print( f\"The most common square for a king to end up on in a draw, from {num_sm/2} thousand games\" )\n",
    "heatmap = sns.heatmap(reshaped_stalemates, square=True)\n",
    "heatmap = heatmap.get_figure()\n",
    "heatmap.savefig(\"heatmap-stale\")"
   ]
  },
  {
   "cell_type": "code",
   "execution_count": 34,
   "metadata": {},
   "outputs": [
    {
     "data": {
      "text/plain": [
       "224"
      ]
     },
     "execution_count": 34,
     "metadata": {},
     "output_type": "execute_result"
    }
   ],
   "source": [
    "#Started out with 10 billion lines in text files, representing 450 million games of chess (400 GB)\n",
    "#Trimmed this down one line per game, i.e., 450 million lines (1.5 GB)\n",
    "#Pivoted these 400m lines to fewer than 1 MB (just 224 bytes).\n",
    "#And that's how you go from 400GB down to 224 bytes, half a billion games down to 4 heatmaps.\n",
    "sys.getsizeof(reshaped_checkmates) + sys.getsizeof(reshaped_stalemates)"
   ]
  }
 ],
 "metadata": {
  "kernelspec": {
   "display_name": "Python 3",
   "language": "python",
   "name": "python3"
  },
  "language_info": {
   "codemirror_mode": {
    "name": "ipython",
    "version": 3
   },
   "file_extension": ".py",
   "mimetype": "text/x-python",
   "name": "python",
   "nbconvert_exporter": "python",
   "pygments_lexer": "ipython3",
   "version": "3.6.4"
  }
 },
 "nbformat": 4,
 "nbformat_minor": 2
}
