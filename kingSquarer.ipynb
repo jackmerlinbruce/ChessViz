{
 "cells": [
  {
   "cell_type": "code",
   "execution_count": 10,
   "metadata": {},
   "outputs": [],
   "source": [
    "import os\n",
    "import sys\n",
    "import chess.pgn as pychess\n",
    "from chess.pgn import read_game\n",
    "from chess import square_name\n",
    "from chess import SQUARE_NAMES, BB_SQUARES\n",
    "import ChessFuncs\n",
    "from ChessFuncs import end_board\n",
    "import bz2\n",
    "import time\n",
    "from io import StringIO\n",
    "from multiprocessing import Process\n",
    "import time\n",
    "from time import sleep\n",
    "import time\n",
    "import glob"
   ]
  },
  {
   "cell_type": "code",
   "execution_count": 195,
   "metadata": {},
   "outputs": [],
   "source": [
    "paths = glob.glob('*PARSED*')\n",
    "parsedpath = paths[0]"
   ]
  },
  {
   "cell_type": "markdown",
   "metadata": {},
   "source": [
    "# Pandas create pivot"
   ]
  },
  {
   "cell_type": "code",
   "execution_count": 196,
   "metadata": {},
   "outputs": [],
   "source": [
    "import numpy as np\n",
    "import pandas as pd\n",
    "import seaborn as sns\n",
    "%matplotlib inline"
   ]
  },
  {
   "cell_type": "code",
   "execution_count": 197,
   "metadata": {},
   "outputs": [],
   "source": [
    "#create a DataFrame with the index set to chess square names, and an empty count column\n",
    "check_df = pd.DataFrame(SQUARE_NAMES,columns=['king_square_name'])\n",
    "check_df.index = check_df['king_square_name']\n",
    "check_df['frequency'] = 0\n",
    "\n",
    "stale_df = pd.DataFrame(SQUARE_NAMES,columns=['king_square_name'])\n",
    "stale_df.index = stale_df['king_square_name']\n",
    "stale_df['frequency'] = 0"
   ]
  },
  {
   "cell_type": "code",
   "execution_count": 204,
   "metadata": {},
   "outputs": [
    {
     "name": "stdout",
     "output_type": "stream",
     "text": [
      "3 pgn files\n",
      "2.83 million games\n",
      "684 thousand checkmates\n",
      "\n",
      "CPU times: user 11.8 s, sys: 45.5 ms, total: 11.8 s\n",
      "Wall time: 11.8 s\n"
     ]
    },
    {
     "data": {
      "image/png": "[encoded data removed]",
      "text/plain": [
       "<Figure size 432x288 with 4 Axes>"
      ]
     },
     "metadata": {},
     "output_type": "display_data"
    }
   ],
   "source": [
    "%%time\n",
    "pgns = 0\n",
    "games = 0\n",
    "cm = 0\n",
    "\n",
    "for path in paths:\n",
    "    pgns += 1    \n",
    "    with open(path,'r') as file: \n",
    "        \n",
    "        # Populate the dataframe\n",
    "        for line in file:\n",
    "            games += 1\n",
    "            result,king,queen = line.split(',')\n",
    "            \n",
    "            if result == '1' or result == '0': # if checkmate\n",
    "                cm += 1\n",
    "                king_square = square_name(int(king))                \n",
    "                check_df.at[king_square,'frequency'] += 1 \n",
    "\n",
    "#             else: # if stalemate\n",
    "# #                 pass # this takes 6-10x longer\n",
    "#                 king_square_white,king_square_black = [square_name(int(king)) for king in king.split('-')]\n",
    "#                 stale_df.at[king_square_white,'frequency'] += 1 \n",
    "#                 stale_df.at[king_square_black,'frequency'] += 1 \n",
    "\n",
    "print(f\"{pgns} pgn files\")\n",
    "print(f\"{round(games/1000000,2)} million games\")\n",
    "print(f\"{round(cm/1000)} thousand checkmates\\n\")        "
   ]
  },
  {
   "cell_type": "code",
   "execution_count": 184,
   "metadata": {},
   "outputs": [
    {
     "data": {
      "text/html": [
       "<div>\n",
       "<style scoped>\n",
       "    .dataframe tbody tr th:only-of-type {\n",
       "        vertical-align: middle;\n",
       "    }\n",
       "\n",
       "    .dataframe tbody tr th {\n",
       "        vertical-align: top;\n",
       "    }\n",
       "\n",
       "    .dataframe thead th {\n",
       "        text-align: right;\n",
       "    }\n",
       "</style>\n",
       "<table border=\"1\" class=\"dataframe\">\n",
       "  <thead>\n",
       "    <tr style=\"text-align: right;\">\n",
       "      <th></th>\n",
       "      <th>king_square_name</th>\n",
       "      <th>frequency</th>\n",
       "    </tr>\n",
       "    <tr>\n",
       "      <th>king_square_name</th>\n",
       "      <th></th>\n",
       "      <th></th>\n",
       "    </tr>\n",
       "  </thead>\n",
       "  <tbody>\n",
       "    <tr>\n",
       "      <th>a1</th>\n",
       "      <td>a1</td>\n",
       "      <td>9322</td>\n",
       "    </tr>\n",
       "    <tr>\n",
       "      <th>b1</th>\n",
       "      <td>b1</td>\n",
       "      <td>11704</td>\n",
       "    </tr>\n",
       "    <tr>\n",
       "      <th>c1</th>\n",
       "      <td>c1</td>\n",
       "      <td>15712</td>\n",
       "    </tr>\n",
       "    <tr>\n",
       "      <th>d1</th>\n",
       "      <td>d1</td>\n",
       "      <td>12449</td>\n",
       "    </tr>\n",
       "    <tr>\n",
       "      <th>e1</th>\n",
       "      <td>e1</td>\n",
       "      <td>24309</td>\n",
       "    </tr>\n",
       "  </tbody>\n",
       "</table>\n",
       "</div>"
      ],
      "text/plain": [
       "                 king_square_name  frequency\n",
       "king_square_name                            \n",
       "a1                             a1       9322\n",
       "b1                             b1      11704\n",
       "c1                             c1      15712\n",
       "d1                             d1      12449\n",
       "e1                             e1      24309"
      ]
     },
     "execution_count": 184,
     "metadata": {},
     "output_type": "execute_result"
    }
   ],
   "source": [
    "def create_dataframe():\n",
    "    check_df = pd.DataFrame(SQUARE_NAMES,columns=['king_square_name'])\n",
    "    check_df.index = check_df['king_square_name']\n",
    "    check_df['frequency'] = 0\n",
    "\n",
    "    stale_df = pd.DataFrame(SQUARE_NAMES,columns=['king_square_name'])\n",
    "    stale_df.index = stale_df['king_square_name']\n",
    "    stale_df['frequency'] = 0\n",
    "    \n",
    "    return check_df\n",
    "\n",
    "def populate_dataframe(csv_paths, dataframe):\n",
    "    '''Takes the parsed pgn csv/txt files and sorts them into their equivalent spaces in a len=64 dataframe'''\n",
    "    \n",
    "    for path in csv_paths:\n",
    "        with open(path,'r') as file: \n",
    "            for line in file:\n",
    "                result,king,queen = line.split(',')\n",
    "\n",
    "                if result == '1' or result == '0': # if checkmate\n",
    "                    king_square = square_name(int(king))                \n",
    "                    dataframe.at[king_square,'frequency'] += 1 \n",
    "\n",
    "                else: # if stalemate\n",
    "                    pass # this takes 6-10x longer\n",
    "        #             king_square_white,king_square_black = [square_name(int(king)) for king in king.split('-')]\n",
    "        #             stale_df.at[king_square_white,'frequency'] += 1 \n",
    "        #             stale_df.at[king_square_black,'frequency'] += 1 \n",
    "        \n",
    "    return dataframe\n",
    "\n",
    "if __name__ == '__main__':\n",
    "    for path in paths: \n",
    "        check_df = create_dataframe()\n",
    "        check_df = populate_dataframe(csv_paths=paths, dataframe=check_df)\n",
    "        heatmap = create_heatmap(dataframe=check_df)"
   ]
  },
  {
   "cell_type": "code",
   "execution_count": 199,
   "metadata": {},
   "outputs": [
    {
     "data": {
      "image/png": "[encoded data removed]",
      "text/plain": [
       "<Figure size 432x288 with 2 Axes>"
      ]
     },
     "metadata": {},
     "output_type": "display_data"
    }
   ],
   "source": [
    "# Create & save the heatmap\n",
    "#move the count col into an np.array, then reshape 8x8 to match a chessboard\n",
    "checkmate_counts = np.array(check_df['frequency'])\n",
    "checkmate_counts = checkmate_counts.reshape(8,8)\n",
    "\n",
    "#create heatmap\n",
    "heatmap = sns.heatmap(checkmate_counts, square=True)\n",
    "heatmap = heatmap.get_figure()\n",
    "heatmap.savefig(\"heatmap\")"
   ]
  },
  {
   "cell_type": "code",
   "execution_count": 205,
   "metadata": {},
   "outputs": [
    {
     "data": {
      "image/png": "[encoded data removed]",
      "text/plain": [
       "<Figure size 432x288 with 2 Axes>"
      ]
     },
     "metadata": {},
     "output_type": "display_data"
    }
   ],
   "source": [
    "#move the count col into an np.array, then reshape 8x8 to match a chessboard\n",
    "stalemate_counts = np.array(stale_df['frequency'])\n",
    "stalemate_counts = stalemate_counts.reshape(8,8)\n",
    "\n",
    "#create heatmap\n",
    "heatmap = sns.heatmap(stalemate_counts, square=True)\n",
    "heatmap = heatmap.get_figure()\n",
    "heatmap.savefig(\"heatmap\")"
   ]
  },
  {
   "cell_type": "code",
   "execution_count": null,
   "metadata": {},
   "outputs": [],
   "source": []
  }
 ],
 "metadata": {
  "kernelspec": {
   "display_name": "Python 3",
   "language": "python",
   "name": "python3"
  },
  "language_info": {
   "codemirror_mode": {
    "name": "ipython",
    "version": 3
   },
   "file_extension": ".py",
   "mimetype": "text/x-python",
   "name": "python",
   "nbconvert_exporter": "python",
   "pygments_lexer": "ipython3",
   "version": "3.6.5"
  }
 },
 "nbformat": 4,
 "nbformat_minor": 2
}
